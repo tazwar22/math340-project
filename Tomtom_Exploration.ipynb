{
 "cells": [
  {
   "cell_type": "code",
   "execution_count": 2,
   "metadata": {},
   "outputs": [
    {
     "data": {
      "text/plain": [
       "'\\n- https://developer.tomtom.com/search-api/documentation/search-service/points-of-interest-search\\n\\n'"
      ]
     },
     "execution_count": 2,
     "metadata": {},
     "output_type": "execute_result"
    }
   ],
   "source": [
    "import os\n",
    "import sys\n",
    "import requests\n",
    "from config import API_KEY\n",
    "import numpy as np\n",
    "import matplotlib.pyplot as plt\n",
    "from PIL import Image\n",
    "from io import BytesIO\n",
    "\n",
    "'''\n",
    "- https://developer.tomtom.com/search-api/documentation/search-service/points-of-interest-search\n",
    "\n",
    "'''"
   ]
  },
  {
   "cell_type": "code",
   "execution_count": 3,
   "metadata": {},
   "outputs": [
    {
     "name": "stdout",
     "output_type": "stream",
     "text": [
      "Current location: 49.266174286260664 -123.24245297485056\n"
     ]
    }
   ],
   "source": [
    "stream = os.popen('curl ipinfo.io/loc')\n",
    "lat, lon = stream.read()[:-len(\"/n\")].split(\",\") #Incorrect!\n",
    "\n",
    "lat, lon = 49.266174286260664, -123.24245297485056 #Hardcoded Home\n",
    "# lat, lon = 49.28306128007426, -123.11922094511674\n",
    "\n",
    "print(f\"Current location: {lat} {lon}\") \n",
    "\n",
    "def summarize_poi_search(res):\n",
    "    query_res = res.json()['results']\n",
    "    if len(query_res) > 0:\n",
    "        for qres in query_res:\n",
    "            name = qres['poi']['name']\n",
    "            address = qres['address']['freeformAddress']\n",
    "            dist = round(qres['dist']/1e3, 2) #in KM\n",
    "            print(f\"Name: {name} \\t {address} \\t Distance: {dist} km\")\n",
    "    "
   ]
  },
  {
   "cell_type": "code",
   "execution_count": 5,
   "metadata": {},
   "outputs": [
    {
     "name": "stdout",
     "output_type": "stream",
     "text": [
      "Name: Tim Hortons \t 2424 Main Mall, Vancouver BC V6T 1Z4 \t Distance: 0.81 km\n",
      "Name: Tim Hortons \t 2033 Agricultural Road, Vancouver BC V6T \t Distance: 0.86 km\n",
      "Name: Tim Hortons \t 4401 West 10th Avenue, Vancouver BC V6R 2H8 \t Distance: 2.63 km\n"
     ]
    }
   ],
   "source": [
    "baseURL = \"api.tomtom.com\"\n",
    "versionNumber = str(2)\n",
    "\n",
    "query = \"Tim H\"\n",
    "poi_category = \"food\"\n",
    "ext = \"json\"\n",
    "radius = 3000\n",
    "lim= 50\n",
    "typeahead=True\n",
    "\n",
    "def poi_search(query):\n",
    "    res = requests.get(f\"https://{baseURL}/search/{versionNumber}/poiSearch/{query}.{ext}?key={API_KEY}&lat={lat}&lon={lon}&radius={radius}&countrySet=CAN&typeahead={typeahead}&limit={lim}\")\n",
    "    summarize_poi_search(res)\n",
    "    return res.json()\n",
    "\n",
    "'''\n",
    "Returns all points of interest within a specified radius of a given lat-lon\n",
    "'''\n",
    "def nearby_search():\n",
    "    res = requests.get(f\"https://{baseURL}/search/{versionNumber}/nearbySearch/.{ext}?key={API_KEY}&limit={lim}&lat={lat}&lon={lon}&radius={radius}&countrySet=CAN\")\n",
    "    summarize_poi_search(res)\n",
    "    return res.json()\n",
    "\n",
    "# nearby_search()\n",
    "res = poi_search(query)"
   ]
  },
  {
   "cell_type": "markdown",
   "metadata": {},
   "source": [
    "# Routes Endpoint"
   ]
  },
  {
   "cell_type": "markdown",
   "metadata": {},
   "source": [
    "journey = f\"{lat},{lon}:{result['position']['lat']},{result['position']['lon']}\"\n",
    "# travel_mode = \"car\"\n",
    "travel_mode = \"pedestrian\"\n",
    "res = requests.get(f\"https://{baseURL}/routing/1/calculateRoute/{journey}/json?key={API_KEY}&travelMode={travel_mode}\")\n",
    "# res.json()['routes']"
   ]
  },
  {
   "cell_type": "markdown",
   "metadata": {},
   "source": [
    "# Interactive Map"
   ]
  },
  {
   "cell_type": "code",
   "execution_count": 6,
   "metadata": {},
   "outputs": [],
   "source": [
    "def get_icon(category):\n",
    "    if category == 'food':\n",
    "        return folium.Icon(color=\"green\", icon=\"cutlery\", prefix='fa')\n",
    "    else:\n",
    "        raise ValueError(f'Invalid category: {category}')\n",
    "        \n",
    "'''\n",
    "https://towardsdatascience.com/how-to-make-stunning-interactive-maps-with-python-and-folium-in-minutes-e3aff3b0ed43\n",
    "'''\n",
    "def generate_popup(r_id, result_item):\n",
    "    lat, lon = result_item['position']['lat'], result_item['position']['lon']\n",
    "    name = result_item['poi']['name']\n",
    "    return f'''<strong> {r_id} {name} </strong> <br> {lat},{lon}'''\n",
    "\n",
    "def get_travel_time(res):\n",
    "    print(f\"Travel time(mins): {int(res.json()['routes'][0]['summary']['travelTimeInSeconds'])//60}\")"
   ]
  },
  {
   "cell_type": "code",
   "execution_count": 9,
   "metadata": {},
   "outputs": [
    {
     "name": "stdout",
     "output_type": "stream",
     "text": [
      "Name: Tim Hortons \t 2424 Main Mall, Vancouver BC V6T 1Z4 \t Distance: 0.81 km\n",
      "Name: Tim Hortons \t 2033 Agricultural Road, Vancouver BC V6T \t Distance: 0.86 km\n",
      "Name: Tim Hortons \t 4401 West 10th Avenue, Vancouver BC V6R 2H8 \t Distance: 2.63 km\n",
      "Travel time(mins): 6\n"
     ]
    },
    {
     "data": {
      "text/html": [
       "<div style=\"width:100%;\"><div style=\"position:relative;width:100%;height:0;padding-bottom:60%;\"><span style=\"color:#565656\">Make this Notebook Trusted to load map: File -> Trust Notebook</span><iframe src=\"about:blank\" style=\"position:absolute;width:100%;height:100%;left:0;top:0;border:none !important;\" data-html=%3C%21DOCTYPE%20html%3E%0A%3Chead%3E%20%20%20%20%0A%20%20%20%20%3Cmeta%20http-equiv%3D%22content-type%22%20content%3D%22text/html%3B%20charset%3DUTF-8%22%20/%3E%0A%20%20%20%20%0A%20%20%20%20%20%20%20%20%3Cscript%3E%0A%20%20%20%20%20%20%20%20%20%20%20%20L_NO_TOUCH%20%3D%20false%3B%0A%20%20%20%20%20%20%20%20%20%20%20%20L_DISABLE_3D%20%3D%20false%3B%0A%20%20%20%20%20%20%20%20%3C/script%3E%0A%20%20%20%20%0A%20%20%20%20%3Cstyle%3Ehtml%2C%20body%20%7Bwidth%3A%20100%25%3Bheight%3A%20100%25%3Bmargin%3A%200%3Bpadding%3A%200%3B%7D%3C/style%3E%0A%20%20%20%20%3Cstyle%3E%23map%20%7Bposition%3Aabsolute%3Btop%3A0%3Bbottom%3A0%3Bright%3A0%3Bleft%3A0%3B%7D%3C/style%3E%0A%20%20%20%20%3Cscript%20src%3D%22https%3A//cdn.jsdelivr.net/npm/leaflet%401.6.0/dist/leaflet.js%22%3E%3C/script%3E%0A%20%20%20%20%3Cscript%20src%3D%22https%3A//code.jquery.com/jquery-1.12.4.min.js%22%3E%3C/script%3E%0A%20%20%20%20%3Cscript%20src%3D%22https%3A//maxcdn.bootstrapcdn.com/bootstrap/3.2.0/js/bootstrap.min.js%22%3E%3C/script%3E%0A%20%20%20%20%3Cscript%20src%3D%22https%3A//cdnjs.cloudflare.com/ajax/libs/Leaflet.awesome-markers/2.0.2/leaflet.awesome-markers.js%22%3E%3C/script%3E%0A%20%20%20%20%3Clink%20rel%3D%22stylesheet%22%20href%3D%22https%3A//cdn.jsdelivr.net/npm/leaflet%401.6.0/dist/leaflet.css%22/%3E%0A%20%20%20%20%3Clink%20rel%3D%22stylesheet%22%20href%3D%22https%3A//maxcdn.bootstrapcdn.com/bootstrap/3.2.0/css/bootstrap.min.css%22/%3E%0A%20%20%20%20%3Clink%20rel%3D%22stylesheet%22%20href%3D%22https%3A//maxcdn.bootstrapcdn.com/bootstrap/3.2.0/css/bootstrap-theme.min.css%22/%3E%0A%20%20%20%20%3Clink%20rel%3D%22stylesheet%22%20href%3D%22https%3A//maxcdn.bootstrapcdn.com/font-awesome/4.6.3/css/font-awesome.min.css%22/%3E%0A%20%20%20%20%3Clink%20rel%3D%22stylesheet%22%20href%3D%22https%3A//cdnjs.cloudflare.com/ajax/libs/Leaflet.awesome-markers/2.0.2/leaflet.awesome-markers.css%22/%3E%0A%20%20%20%20%3Clink%20rel%3D%22stylesheet%22%20href%3D%22https%3A//cdn.jsdelivr.net/gh/python-visualization/folium/folium/templates/leaflet.awesome.rotate.min.css%22/%3E%0A%20%20%20%20%0A%20%20%20%20%20%20%20%20%20%20%20%20%3Cmeta%20name%3D%22viewport%22%20content%3D%22width%3Ddevice-width%2C%0A%20%20%20%20%20%20%20%20%20%20%20%20%20%20%20%20initial-scale%3D1.0%2C%20maximum-scale%3D1.0%2C%20user-scalable%3Dno%22%20/%3E%0A%20%20%20%20%20%20%20%20%20%20%20%20%3Cstyle%3E%0A%20%20%20%20%20%20%20%20%20%20%20%20%20%20%20%20%23map_3806240f234a4f3fa94f3236c565abf6%20%7B%0A%20%20%20%20%20%20%20%20%20%20%20%20%20%20%20%20%20%20%20%20position%3A%20relative%3B%0A%20%20%20%20%20%20%20%20%20%20%20%20%20%20%20%20%20%20%20%20width%3A%20100.0%25%3B%0A%20%20%20%20%20%20%20%20%20%20%20%20%20%20%20%20%20%20%20%20height%3A%2050.0%25%3B%0A%20%20%20%20%20%20%20%20%20%20%20%20%20%20%20%20%20%20%20%20left%3A%200.0%25%3B%0A%20%20%20%20%20%20%20%20%20%20%20%20%20%20%20%20%20%20%20%20top%3A%200.0%25%3B%0A%20%20%20%20%20%20%20%20%20%20%20%20%20%20%20%20%7D%0A%20%20%20%20%20%20%20%20%20%20%20%20%3C/style%3E%0A%20%20%20%20%20%20%20%20%0A%3C/head%3E%0A%3Cbody%3E%20%20%20%20%0A%20%20%20%20%0A%20%20%20%20%20%20%20%20%20%20%20%20%3Cdiv%20class%3D%22folium-map%22%20id%3D%22map_3806240f234a4f3fa94f3236c565abf6%22%20%3E%3C/div%3E%0A%20%20%20%20%20%20%20%20%0A%3C/body%3E%0A%3Cscript%3E%20%20%20%20%0A%20%20%20%20%0A%20%20%20%20%20%20%20%20%20%20%20%20var%20map_3806240f234a4f3fa94f3236c565abf6%20%3D%20L.map%28%0A%20%20%20%20%20%20%20%20%20%20%20%20%20%20%20%20%22map_3806240f234a4f3fa94f3236c565abf6%22%2C%0A%20%20%20%20%20%20%20%20%20%20%20%20%20%20%20%20%7B%0A%20%20%20%20%20%20%20%20%20%20%20%20%20%20%20%20%20%20%20%20center%3A%20%5B49.266174286260664%2C%20-123.24245297485056%5D%2C%0A%20%20%20%20%20%20%20%20%20%20%20%20%20%20%20%20%20%20%20%20crs%3A%20L.CRS.EPSG3857%2C%0A%20%20%20%20%20%20%20%20%20%20%20%20%20%20%20%20%20%20%20%20zoom%3A%2016%2C%0A%20%20%20%20%20%20%20%20%20%20%20%20%20%20%20%20%20%20%20%20zoomControl%3A%20true%2C%0A%20%20%20%20%20%20%20%20%20%20%20%20%20%20%20%20%20%20%20%20preferCanvas%3A%20false%2C%0A%20%20%20%20%20%20%20%20%20%20%20%20%20%20%20%20%7D%0A%20%20%20%20%20%20%20%20%20%20%20%20%29%3B%0A%0A%20%20%20%20%20%20%20%20%20%20%20%20%0A%0A%20%20%20%20%20%20%20%20%0A%20%20%20%20%0A%20%20%20%20%20%20%20%20%20%20%20%20var%20tile_layer_68ebfb6a3a844cd69a2584993b452117%20%3D%20L.tileLayer%28%0A%20%20%20%20%20%20%20%20%20%20%20%20%20%20%20%20%22https%3A//%7Bs%7D.tile.openstreetmap.org/%7Bz%7D/%7Bx%7D/%7By%7D.png%22%2C%0A%20%20%20%20%20%20%20%20%20%20%20%20%20%20%20%20%7B%22attribution%22%3A%20%22Data%20by%20%5Cu0026copy%3B%20%5Cu003ca%20href%3D%5C%22http%3A//openstreetmap.org%5C%22%5Cu003eOpenStreetMap%5Cu003c/a%5Cu003e%2C%20under%20%5Cu003ca%20href%3D%5C%22http%3A//www.openstreetmap.org/copyright%5C%22%5Cu003eODbL%5Cu003c/a%5Cu003e.%22%2C%20%22detectRetina%22%3A%20false%2C%20%22maxNativeZoom%22%3A%2018%2C%20%22maxZoom%22%3A%2018%2C%20%22minZoom%22%3A%200%2C%20%22noWrap%22%3A%20false%2C%20%22opacity%22%3A%201%2C%20%22subdomains%22%3A%20%22abc%22%2C%20%22tms%22%3A%20false%7D%0A%20%20%20%20%20%20%20%20%20%20%20%20%29.addTo%28map_3806240f234a4f3fa94f3236c565abf6%29%3B%0A%20%20%20%20%20%20%20%20%0A%20%20%20%20%0A%20%20%20%20%20%20%20%20%20%20%20%20var%20marker_20d96da3ecbf491184f2cd670b8d690d%20%3D%20L.marker%28%0A%20%20%20%20%20%20%20%20%20%20%20%20%20%20%20%20%5B49.266174286260664%2C%20-123.24245297485056%5D%2C%0A%20%20%20%20%20%20%20%20%20%20%20%20%20%20%20%20%7B%7D%0A%20%20%20%20%20%20%20%20%20%20%20%20%29.addTo%28map_3806240f234a4f3fa94f3236c565abf6%29%3B%0A%20%20%20%20%20%20%20%20%0A%20%20%20%20%0A%20%20%20%20%20%20%20%20%20%20%20%20var%20icon_7b0947a4f08a47f8b148207f92c91ace%20%3D%20L.AwesomeMarkers.icon%28%0A%20%20%20%20%20%20%20%20%20%20%20%20%20%20%20%20%7B%22extraClasses%22%3A%20%22fa-rotate-0%22%2C%20%22icon%22%3A%20%22home%22%2C%20%22iconColor%22%3A%20%22white%22%2C%20%22markerColor%22%3A%20%22red%22%2C%20%22prefix%22%3A%20%22fa%22%7D%0A%20%20%20%20%20%20%20%20%20%20%20%20%29%3B%0A%20%20%20%20%20%20%20%20%20%20%20%20marker_20d96da3ecbf491184f2cd670b8d690d.setIcon%28icon_7b0947a4f08a47f8b148207f92c91ace%29%3B%0A%20%20%20%20%20%20%20%20%0A%20%20%20%20%0A%20%20%20%20%20%20%20%20%20%20%20%20var%20circle_55f5041c9d1e4f02ac092a48f9be269a%20%3D%20L.circle%28%0A%20%20%20%20%20%20%20%20%20%20%20%20%20%20%20%20%5B49.266174286260664%2C%20-123.24245297485056%5D%2C%0A%20%20%20%20%20%20%20%20%20%20%20%20%20%20%20%20%7B%22bubblingMouseEvents%22%3A%20true%2C%20%22color%22%3A%20%22red%22%2C%20%22dashArray%22%3A%20null%2C%20%22dashOffset%22%3A%20null%2C%20%22fill%22%3A%20false%2C%20%22fillColor%22%3A%20%22red%22%2C%20%22fillOpacity%22%3A%200.2%2C%20%22fillRule%22%3A%20%22evenodd%22%2C%20%22lineCap%22%3A%20%22round%22%2C%20%22lineJoin%22%3A%20%22round%22%2C%20%22opacity%22%3A%201.0%2C%20%22radius%22%3A%203000%2C%20%22stroke%22%3A%20true%2C%20%22weight%22%3A%203%7D%0A%20%20%20%20%20%20%20%20%20%20%20%20%29.addTo%28map_3806240f234a4f3fa94f3236c565abf6%29%3B%0A%20%20%20%20%20%20%20%20%0A%20%20%20%20%0A%20%20%20%20%20%20%20%20%20%20%20%20var%20marker_a1cd7d1412d5475fbaf3c18b43414413%20%3D%20L.marker%28%0A%20%20%20%20%20%20%20%20%20%20%20%20%20%20%20%20%5B49.26018%2C%20-123.24884%5D%2C%0A%20%20%20%20%20%20%20%20%20%20%20%20%20%20%20%20%7B%7D%0A%20%20%20%20%20%20%20%20%20%20%20%20%29.addTo%28map_3806240f234a4f3fa94f3236c565abf6%29%3B%0A%20%20%20%20%20%20%20%20%0A%20%20%20%20%0A%20%20%20%20%20%20%20%20%20%20%20%20var%20icon_a087a50821cb4168b0a53a73e3cd8ba7%20%3D%20L.AwesomeMarkers.icon%28%0A%20%20%20%20%20%20%20%20%20%20%20%20%20%20%20%20%7B%22extraClasses%22%3A%20%22fa-rotate-0%22%2C%20%22icon%22%3A%20%22cutlery%22%2C%20%22iconColor%22%3A%20%22white%22%2C%20%22markerColor%22%3A%20%22green%22%2C%20%22prefix%22%3A%20%22fa%22%7D%0A%20%20%20%20%20%20%20%20%20%20%20%20%29%3B%0A%20%20%20%20%20%20%20%20%20%20%20%20marker_a1cd7d1412d5475fbaf3c18b43414413.setIcon%28icon_a087a50821cb4168b0a53a73e3cd8ba7%29%3B%0A%20%20%20%20%20%20%20%20%0A%20%20%20%20%0A%20%20%20%20%20%20%20%20var%20popup_1131a9d5952a41de8a082d4e86ae770c%20%3D%20L.popup%28%7B%22maxWidth%22%3A%20%22100%25%22%7D%29%3B%0A%0A%20%20%20%20%20%20%20%20%0A%20%20%20%20%20%20%20%20%20%20%20%20var%20html_b7ad70cd471847adac7d8588009ab1d3%20%3D%20%24%28%60%3Cdiv%20id%3D%22html_b7ad70cd471847adac7d8588009ab1d3%22%20style%3D%22width%3A%20100.0%25%3B%20height%3A%20100.0%25%3B%22%3E%3Cstrong%3E%200%20Tim%20Hortons%20%3C/strong%3E%20%3Cbr%3E%2049.26018%2C-123.24884%3C/div%3E%60%29%5B0%5D%3B%0A%20%20%20%20%20%20%20%20%20%20%20%20popup_1131a9d5952a41de8a082d4e86ae770c.setContent%28html_b7ad70cd471847adac7d8588009ab1d3%29%3B%0A%20%20%20%20%20%20%20%20%0A%0A%20%20%20%20%20%20%20%20marker_a1cd7d1412d5475fbaf3c18b43414413.bindPopup%28popup_1131a9d5952a41de8a082d4e86ae770c%29%0A%20%20%20%20%20%20%20%20%3B%0A%0A%20%20%20%20%20%20%20%20%0A%20%20%20%20%0A%20%20%20%20%0A%20%20%20%20%20%20%20%20%20%20%20%20var%20marker_fc627ab3fe0c44d889b07b7ed7f0fc29%20%3D%20L.marker%28%0A%20%20%20%20%20%20%20%20%20%20%20%20%20%20%20%20%5B49.26566%2C%20-123.25427%5D%2C%0A%20%20%20%20%20%20%20%20%20%20%20%20%20%20%20%20%7B%7D%0A%20%20%20%20%20%20%20%20%20%20%20%20%29.addTo%28map_3806240f234a4f3fa94f3236c565abf6%29%3B%0A%20%20%20%20%20%20%20%20%0A%20%20%20%20%0A%20%20%20%20%20%20%20%20%20%20%20%20var%20icon_8e91d56db3c14fd6af8780f61ad90419%20%3D%20L.AwesomeMarkers.icon%28%0A%20%20%20%20%20%20%20%20%20%20%20%20%20%20%20%20%7B%22extraClasses%22%3A%20%22fa-rotate-0%22%2C%20%22icon%22%3A%20%22cutlery%22%2C%20%22iconColor%22%3A%20%22white%22%2C%20%22markerColor%22%3A%20%22green%22%2C%20%22prefix%22%3A%20%22fa%22%7D%0A%20%20%20%20%20%20%20%20%20%20%20%20%29%3B%0A%20%20%20%20%20%20%20%20%20%20%20%20marker_fc627ab3fe0c44d889b07b7ed7f0fc29.setIcon%28icon_8e91d56db3c14fd6af8780f61ad90419%29%3B%0A%20%20%20%20%20%20%20%20%0A%20%20%20%20%0A%20%20%20%20%20%20%20%20var%20popup_e13be942da97405ba9267421400ee4dd%20%3D%20L.popup%28%7B%22maxWidth%22%3A%20%22100%25%22%7D%29%3B%0A%0A%20%20%20%20%20%20%20%20%0A%20%20%20%20%20%20%20%20%20%20%20%20var%20html_11f3c86cb6464d83b6b15b1b050c4ff0%20%3D%20%24%28%60%3Cdiv%20id%3D%22html_11f3c86cb6464d83b6b15b1b050c4ff0%22%20style%3D%22width%3A%20100.0%25%3B%20height%3A%20100.0%25%3B%22%3E%3Cstrong%3E%201%20Tim%20Hortons%20%3C/strong%3E%20%3Cbr%3E%2049.26566%2C-123.25427%3C/div%3E%60%29%5B0%5D%3B%0A%20%20%20%20%20%20%20%20%20%20%20%20popup_e13be942da97405ba9267421400ee4dd.setContent%28html_11f3c86cb6464d83b6b15b1b050c4ff0%29%3B%0A%20%20%20%20%20%20%20%20%0A%0A%20%20%20%20%20%20%20%20marker_fc627ab3fe0c44d889b07b7ed7f0fc29.bindPopup%28popup_e13be942da97405ba9267421400ee4dd%29%0A%20%20%20%20%20%20%20%20%3B%0A%0A%20%20%20%20%20%20%20%20%0A%20%20%20%20%0A%20%20%20%20%0A%20%20%20%20%20%20%20%20%20%20%20%20var%20marker_f188306f584247ec9737f81bf5bd40c3%20%3D%20L.marker%28%0A%20%20%20%20%20%20%20%20%20%20%20%20%20%20%20%20%5B49.26404%2C%20-123.20631%5D%2C%0A%20%20%20%20%20%20%20%20%20%20%20%20%20%20%20%20%7B%7D%0A%20%20%20%20%20%20%20%20%20%20%20%20%29.addTo%28map_3806240f234a4f3fa94f3236c565abf6%29%3B%0A%20%20%20%20%20%20%20%20%0A%20%20%20%20%0A%20%20%20%20%20%20%20%20%20%20%20%20var%20icon_9d9d5736c01d4a30b22eb794ab564a87%20%3D%20L.AwesomeMarkers.icon%28%0A%20%20%20%20%20%20%20%20%20%20%20%20%20%20%20%20%7B%22extraClasses%22%3A%20%22fa-rotate-0%22%2C%20%22icon%22%3A%20%22cutlery%22%2C%20%22iconColor%22%3A%20%22white%22%2C%20%22markerColor%22%3A%20%22green%22%2C%20%22prefix%22%3A%20%22fa%22%7D%0A%20%20%20%20%20%20%20%20%20%20%20%20%29%3B%0A%20%20%20%20%20%20%20%20%20%20%20%20marker_f188306f584247ec9737f81bf5bd40c3.setIcon%28icon_9d9d5736c01d4a30b22eb794ab564a87%29%3B%0A%20%20%20%20%20%20%20%20%0A%20%20%20%20%0A%20%20%20%20%20%20%20%20var%20popup_4e430529e02641429b4e1a79f1b0ab25%20%3D%20L.popup%28%7B%22maxWidth%22%3A%20%22100%25%22%7D%29%3B%0A%0A%20%20%20%20%20%20%20%20%0A%20%20%20%20%20%20%20%20%20%20%20%20var%20html_46b4b074fb1545bcb912e030e4c36daa%20%3D%20%24%28%60%3Cdiv%20id%3D%22html_46b4b074fb1545bcb912e030e4c36daa%22%20style%3D%22width%3A%20100.0%25%3B%20height%3A%20100.0%25%3B%22%3E%3Cstrong%3E%202%20Tim%20Hortons%20%3C/strong%3E%20%3Cbr%3E%2049.26404%2C-123.20631%3C/div%3E%60%29%5B0%5D%3B%0A%20%20%20%20%20%20%20%20%20%20%20%20popup_4e430529e02641429b4e1a79f1b0ab25.setContent%28html_46b4b074fb1545bcb912e030e4c36daa%29%3B%0A%20%20%20%20%20%20%20%20%0A%0A%20%20%20%20%20%20%20%20marker_f188306f584247ec9737f81bf5bd40c3.bindPopup%28popup_4e430529e02641429b4e1a79f1b0ab25%29%0A%20%20%20%20%20%20%20%20%3B%0A%0A%20%20%20%20%20%20%20%20%0A%20%20%20%20%0A%20%20%20%20%0A%20%20%20%20%20%20%20%20%20%20%20%20var%20poly_line_404315aee9304661b0040fa2d2047299%20%3D%20L.polyline%28%0A%20%20%20%20%20%20%20%20%20%20%20%20%20%20%20%20%5B%5B49.26643%2C%20-123.24265%5D%2C%20%5B49.26659%2C%20-123.24219%5D%2C%20%5B49.2668%2C%20-123.24236%5D%2C%20%5B49.26694%2C%20-123.24247%5D%2C%20%5B49.26681%2C%20-123.24336%5D%2C%20%5B49.26669%2C%20-123.24415%5D%2C%20%5B49.26664%2C%20-123.24451%5D%2C%20%5B49.26662%2C%20-123.24463%5D%2C%20%5B49.26658%2C%20-123.2449%5D%2C%20%5B49.26647%2C%20-123.24545%5D%2C%20%5B49.26641%2C%20-123.24567%5D%2C%20%5B49.2663%2C%20-123.2456%5D%2C%20%5B49.26596%2C%20-123.2453%5D%2C%20%5B49.26591%2C%20-123.24526%5D%2C%20%5B49.26567%2C%20-123.24506%5D%2C%20%5B49.26524%2C%20-123.24469%5D%2C%20%5B49.26518%2C%20-123.24464%5D%2C%20%5B49.26517%2C%20-123.24463%5D%2C%20%5B49.26493%2C%20-123.24443%5D%2C%20%5B49.26484%2C%20-123.24434%5D%2C%20%5B49.26478%2C%20-123.2443%5D%2C%20%5B49.26442%2C%20-123.24399%5D%2C%20%5B49.26405%2C%20-123.24368%5D%2C%20%5B49.26364%2C%20-123.24333%5D%2C%20%5B49.26338%2C%20-123.24311%5D%2C%20%5B49.26312%2C%20-123.24289%5D%2C%20%5B49.26297%2C%20-123.24287%5D%2C%20%5B49.26289%2C%20-123.2429%5D%2C%20%5B49.2628%2C%20-123.24297%5D%2C%20%5B49.2627%2C%20-123.24325%5D%2C%20%5B49.26261%2C%20-123.24347%5D%2C%20%5B49.26224%2C%20-123.24447%5D%2C%20%5B49.2622%2C%20-123.24457%5D%2C%20%5B49.26218%2C%20-123.24463%5D%2C%20%5B49.26176%2C%20-123.24576%5D%2C%20%5B49.26148%2C%20-123.24553%5D%2C%20%5B49.26135%2C%20-123.24541%5D%2C%20%5B49.26113%2C%20-123.24522%5D%2C%20%5B49.26092%2C%20-123.24504%5D%2C%20%5B49.26051%2C%20-123.24473%5D%2C%20%5B49.26047%2C%20-123.24485%5D%2C%20%5B49.26039%2C%20-123.24508%5D%2C%20%5B49.26025%2C%20-123.2455%5D%2C%20%5B49.2602%2C%20-123.24567%5D%2C%20%5B49.26016%2C%20-123.24578%5D%2C%20%5B49.2601%2C%20-123.24598%5D%2C%20%5B49.25987%2C%20-123.24662%5D%2C%20%5B49.25983%2C%20-123.24667%5D%2C%20%5B49.25976%2C%20-123.24686%5D%2C%20%5B49.25951%2C%20-123.24753%5D%2C%20%5B49.25944%2C%20-123.24775%5D%2C%20%5B49.25953%2C%20-123.24782%5D%2C%20%5B49.25974%2C%20-123.24796%5D%2C%20%5B49.25981%2C%20-123.24802%5D%2C%20%5B49.25984%2C%20-123.24805%5D%2C%20%5B49.2599%2C%20-123.24815%5D%2C%20%5B49.25992%2C%20-123.24822%5D%2C%20%5B49.25995%2C%20-123.24823%5D%2C%20%5B49.25998%2C%20-123.24824%5D%2C%20%5B49.26001%2C%20-123.24824%5D%2C%20%5B49.26001%2C%20-123.24824%5D%5D%2C%0A%20%20%20%20%20%20%20%20%20%20%20%20%20%20%20%20%7B%22bubblingMouseEvents%22%3A%20true%2C%20%22color%22%3A%20%22green%22%2C%20%22dashArray%22%3A%20null%2C%20%22dashOffset%22%3A%20null%2C%20%22fill%22%3A%20false%2C%20%22fillColor%22%3A%20%22green%22%2C%20%22fillOpacity%22%3A%200.2%2C%20%22fillRule%22%3A%20%22evenodd%22%2C%20%22lineCap%22%3A%20%22round%22%2C%20%22lineJoin%22%3A%20%22round%22%2C%20%22noClip%22%3A%20false%2C%20%22opacity%22%3A%200.5%2C%20%22smoothFactor%22%3A%201.0%2C%20%22stroke%22%3A%20true%2C%20%22weight%22%3A%205.5%7D%0A%20%20%20%20%20%20%20%20%20%20%20%20%29.addTo%28map_3806240f234a4f3fa94f3236c565abf6%29%3B%0A%20%20%20%20%20%20%20%20%0A%3C/script%3E onload=\"this.contentDocument.open();this.contentDocument.write(    decodeURIComponent(this.getAttribute('data-html')));this.contentDocument.close();\" allowfullscreen webkitallowfullscreen mozallowfullscreen></iframe></div></div>"
      ],
      "text/plain": [
       "<folium.folium.Map at 0x1db9fb87ba8>"
      ]
     },
     "execution_count": 9,
     "metadata": {},
     "output_type": "execute_result"
    }
   ],
   "source": [
    "import folium\n",
    "fmap = folium.Map(location=[lat, lon], zoom_start=16, width=\"100%\", height=\"50%\")\n",
    "\n",
    "folium.Marker(\n",
    "    location=[lat, lon], icon=folium.Icon(color=\"red\",icon=\"home\", prefix='fa')\n",
    ").add_to(fmap)\n",
    "\n",
    "#Add a radius\n",
    "folium.Circle(location=[lat, lon],\n",
    "    color='red',\n",
    "    radius=radius\n",
    ").add_to(fmap)\n",
    "\n",
    "res = poi_search(query)\n",
    "for r_id, result in enumerate(res['results']):\n",
    "    folium.Marker(\n",
    "        location = [result['position']['lat'], result['position']['lon']],\n",
    "#         popup = result['poi']['name'],\n",
    "        popup = generate_popup(r_id, result),\n",
    "        icon = get_icon(poi_category)\n",
    "    ).add_to(fmap)\n",
    "    \n",
    "    \n",
    "#Draw a line to one of the locations\n",
    "target_pos = res['results'][0]['position']\n",
    "lat_2, lon_2 = target_pos['lat'], target_pos['lon']\n",
    "# lat_2, lon_2 = 49.266174286260664, -123.24245297485056\n",
    "journey = f\"{lat},{lon}:{lat_2},{lon_2}\"\n",
    "\n",
    "# travel_mode = \"car\"\n",
    "# res = requests.get(f\"https://{baseURL}/routing/1/calculateRoute/{journey}/json?key={API_KEY}&travelMode={travel_mode}\")\n",
    "# get_travel_time(res)\n",
    "# path_points = [(loc['latitude'], loc['longitude']) for loc in res.json()['routes'][0]['legs'][0]['points']] #Get first available route\n",
    "# folium.PolyLine(path_points,color=\"blue\", weight=5.5, opacity=0.5).add_to(fmap)\n",
    "\n",
    "travel_mode = \"pedestrian\"\n",
    "#https://developer.tomtom.com/routing-api/documentation/routing/common-routing-parameters\n",
    "travel_mode = \"bus\"\n",
    "res = requests.get(f\"https://{baseURL}/routing/1/calculateRoute/{journey}/json?key={API_KEY}&travelMode={travel_mode}\")\n",
    "get_travel_time(res)\n",
    "path_points = [(loc['latitude'], loc['longitude']) for loc in res.json()['routes'][0]['legs'][0]['points']] #Get first available route\n",
    "folium.PolyLine(path_points,color=\"green\", weight=5.5, opacity=0.5).add_to(fmap)\n",
    "\n",
    "fmap"
   ]
  },
  {
   "cell_type": "markdown",
   "metadata": {},
   "source": [
    "# Extended Search API"
   ]
  },
  {
   "cell_type": "code",
   "execution_count": 248,
   "metadata": {},
   "outputs": [
    {
     "name": "stdout",
     "output_type": "stream",
     "text": [
      "Name: Freshslice Pizza \t 2166 Western Parkway, Vancouver BC V6T 1V6 \t Distance: 0.04 km\n",
      "Name: University Plaza Pizza \t 5728 University Boulevard, Vancouver BC V6T 1K6 \t Distance: 0.05 km\n",
      "Name: Pizza Garden \t 5780 University Boulevard, Vancouver BC V6T 1K6 \t Distance: 0.07 km\n",
      "Name: Pie R Squared \t 6138 Toronto Road, Vancouver BC V6T \t Distance: 0.24 km\n",
      "Name: Uncle Fatih's Pizza-UBC \t University Boulevard, Vancouver BC V6T 0C4 \t Distance: 0.33 km\n",
      "Name: Pie R Squared \t 6138 Student Union Boulevard, Vancouver BC V6T 1Z1 \t Distance: 0.57 km\n",
      "Name: Mercante \t 6488 University Boulevard, Vancouver BC V6T \t Distance: 0.96 km\n",
      "Name: Pizza 222 Express \t University Boulevard, Vancouver BC V6T \t Distance: 1.14 km\n",
      "Name: Virtuous Pie \t 3339 Shrum Lane, Vancouver BC V6T 1W5 \t Distance: 1.45 km\n",
      "Name: Pizza Hut \t 4540 West 10th Avenue, Vancouver BC V6R 2J1 \t Distance: 2.31 km\n",
      "******** Searching for [Pie R Squared] ********\n",
      "dict_keys(['description', 'rating', 'priceRange', 'photos', 'reviews', 'popularHours'])\n",
      "*** REVIEWS *** \n",
      "\n",
      "2021-09-13 - Make sure to grab some of the sauces\n",
      "2014-03-09 - Great for pizza (nice rosemary crust on Pesto Deluxe), but I'd skip the milkshakes.\n",
      "2012-10-26 - Line can sometimes be long, but it moves really quick!\n",
      "2012-10-04 - Chocolate milk is far cheaper here than in the food court.\n",
      "2012-02-11 - Try the burekas...they're classic.\n",
      "2011-02-04 - Slice it up on Tuesdays! Every Tuesday in February come to the SUB and grab a 10 cut slice of Pie R Squared pizza for only $2!\n",
      "*** PRICE RANGE *** \n",
      "\n",
      "Cheap\n",
      "*** Popular Hours *** \n",
      "\n",
      "{'dayOfWeek': 1, 'timeRanges': [{'startTime': {'hour': 11, 'minute': 0}, 'endTime': {'hour': 19, 'minute': 0}}]}\n",
      "{'dayOfWeek': 2, 'timeRanges': [{'startTime': {'hour': 11, 'minute': 0}, 'endTime': {'hour': 19, 'minute': 0}}]}\n",
      "{'dayOfWeek': 3, 'timeRanges': [{'startTime': {'hour': 11, 'minute': 0}, 'endTime': {'hour': 19, 'minute': 0}}]}\n",
      "{'dayOfWeek': 4, 'timeRanges': [{'startTime': {'hour': 11, 'minute': 0}, 'endTime': {'hour': 19, 'minute': 0}}]}\n",
      "{'dayOfWeek': 5, 'timeRanges': [{'startTime': {'hour': 11, 'minute': 0}, 'endTime': {'hour': 18, 'minute': 0}}]}\n",
      "{'dayOfWeek': 6, 'timeRanges': [{'startTime': {'hour': 12, 'minute': 0}, 'endTime': {'hour': 15, 'minute': 0}}, {'startTime': {'hour': 17, 'minute': 0}, 'endTime': {'hour': 18, 'minute': 0}}]}\n",
      "{'dayOfWeek': 7, 'timeRanges': [{'startTime': {'hour': 12, 'minute': 0}, 'endTime': {'hour': 13, 'minute': 0}}, {'startTime': {'hour': 15, 'minute': 0}, 'endTime': {'hour': 16, 'minute': 0}}]}\n"
     ]
    }
   ],
   "source": [
    "baseURL = \"api.tomtom.com\"\n",
    "versionNumber = str(2)\n",
    "query = \"pizza\"\n",
    "ext = \"json\"\n",
    "radius = 4000\n",
    "lim= 100\n",
    "\n",
    "def plot_image(img_res):\n",
    "    img = Image.open(BytesIO(img_res.content))\n",
    "    plt.figure()\n",
    "    plt.imshow(img)\n",
    "    plt.axis('off')\n",
    "    plt.show()\n",
    "    plt.close()\n",
    "    \n",
    "def get_photo_res(pid):\n",
    "    photo_res = requests.get(f\"https://{baseURL}/search/{versionNumber}/poiPhoto?key={API_KEY}&id={pid}\")\n",
    "    return photo_res\n",
    "\n",
    "def visualize_popular_hours(activity_series):\n",
    "    for day in activity_series:\n",
    "        print(day)\n",
    "#         print(day['dayOfWeek'])\n",
    "    \n",
    "\n",
    "def extended_poi_search(poi_name, poi_id, plot_ims=False):\n",
    "    print(f\"******** Searching for [{poi_name}] ********\")\n",
    "    res = requests.get(f\"https://{baseURL}/search/{versionNumber}/poiDetails.{ext}?key={API_KEY}&id={poi_id}\").json()\n",
    "    print(res['result'].keys())\n",
    "    if plot_ims:\n",
    "        photo_res_obs = [get_photo_res(photo['id']) for photo in res['result']['photos']]\n",
    "        for pres in photo_res_obs:\n",
    "            plot_image(pres)\n",
    "    \n",
    "    #Print reviews\n",
    "    if 'reviews' in res['result']:\n",
    "        print(f\"*** REVIEWS *** \\n\")\n",
    "        for rev in res['result']['reviews']:\n",
    "            date, rev_text = rev['date'], rev['text']\n",
    "            print(f\"{date} - {rev_text}\")\n",
    "    if 'priceRange' in res['result']:\n",
    "        print(f\"*** PRICE RANGE *** \\n\")\n",
    "        print(res['result']['priceRange']['label'])\n",
    "    if 'popularHours' in res['result']:\n",
    "        print(f\"*** Popular Hours *** \\n\")\n",
    "        visualize_popular_hours(res['result']['popularHours'])\n",
    "\n",
    "        \n",
    "'''\n",
    "USAGE\n",
    "'''\n",
    "poi_res = poi_search(query)\n",
    "poi = poi_res['results'][5]\n",
    "poi_id, poi_name = poi['id'], poi['poi']['name']\n",
    "extended_poi_search(poi_name, poi_id, plot_ims=False)"
   ]
  }
 ],
 "metadata": {
  "kernelspec": {
   "display_name": "geodat",
   "language": "python",
   "name": "geodat"
  },
  "language_info": {
   "codemirror_mode": {
    "name": "ipython",
    "version": 3
   },
   "file_extension": ".py",
   "mimetype": "text/x-python",
   "name": "python",
   "nbconvert_exporter": "python",
   "pygments_lexer": "ipython3",
   "version": "3.10.4"
  }
 },
 "nbformat": 4,
 "nbformat_minor": 4
}
