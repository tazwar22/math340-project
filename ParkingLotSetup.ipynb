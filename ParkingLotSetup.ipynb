{
 "cells": [
  {
   "cell_type": "markdown",
   "id": "c8c32f9a-c053-45f0-bce5-28c9afc2366e",
   "metadata": {},
   "source": [
    "# Parking Lots Setup"
   ]
  },
  {
   "cell_type": "code",
   "execution_count": 4,
   "id": "cea59ce2-105d-43a1-964d-49a5927098b5",
   "metadata": {},
   "outputs": [],
   "source": [
    "import os\n",
    "import pandas as pd\n",
    "import numpy as np"
   ]
  },
  {
   "cell_type": "code",
   "execution_count": 8,
   "id": "24b27ca5-8112-45c6-bc42-a76e34affbdb",
   "metadata": {},
   "outputs": [],
   "source": [
    "'''\n",
    "A spot can be - single\n",
    "Can have subclasses - Single, Twin, Station (5)\n",
    "'''\n",
    "class ParkingSpot(object):\n",
    "    \n",
    "    '''\n",
    "    EVENT - car leaves\n",
    "    RATE - minute basis\n",
    "    '''\n",
    "    def __init__(self):\n",
    "        self.capacity = 10 #Might change depending on #stations (twin or not)\n",
    "        # self.operating_hours = {'start':'9:00AM', 'end':'5:00PM'} \n",
    "        self.meter_limits = 2*60 #How long (in minutes)\n",
    "        self.meter_rate = 0.1 #Per minute\n",
    "        self.lam_depart = 4/60 # cars leaving per hour\n",
    "        #Look at traffic data to determine the business of the lot...more traffic => quite full lot\n",
    "    \n",
    "    def number_of_cars():\n",
    "        pass"
   ]
  },
  {
   "cell_type": "code",
   "execution_count": null,
   "id": "8468c1a6-70e0-457e-924a-6199cc2d8c42",
   "metadata": {},
   "outputs": [],
   "source": []
  },
  {
   "cell_type": "code",
   "execution_count": null,
   "id": "26b91b49-08e5-475d-8ee9-863fabc368cd",
   "metadata": {},
   "outputs": [],
   "source": []
  },
  {
   "cell_type": "code",
   "execution_count": null,
   "id": "30efc5d1-97e7-45a5-ac9a-bc27c5a32b3d",
   "metadata": {},
   "outputs": [],
   "source": []
  },
  {
   "cell_type": "code",
   "execution_count": null,
   "id": "3329ad0e-854a-430d-9bfc-097e20829f8a",
   "metadata": {},
   "outputs": [],
   "source": []
  }
 ],
 "metadata": {
  "kernelspec": {
   "display_name": "geodat",
   "language": "python",
   "name": "geodat"
  },
  "language_info": {
   "codemirror_mode": {
    "name": "ipython",
    "version": 3
   },
   "file_extension": ".py",
   "mimetype": "text/x-python",
   "name": "python",
   "nbconvert_exporter": "python",
   "pygments_lexer": "ipython3",
   "version": "3.10.4"
  }
 },
 "nbformat": 4,
 "nbformat_minor": 5
}
