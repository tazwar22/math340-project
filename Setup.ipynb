{
 "cells": [
  {
   "cell_type": "markdown",
   "id": "64efa981-dbd1-4858-900b-a7eea8401b51",
   "metadata": {},
   "source": [
    "# TomTom Setup"
   ]
  },
  {
   "cell_type": "code",
   "execution_count": 5,
   "id": "970cf8b8-9eb6-40be-ade6-4d6970b4f1d2",
   "metadata": {},
   "outputs": [],
   "source": [
    "import os\n",
    "import requests\n",
    "from config import API_KEY, HOME"
   ]
  },
  {
   "cell_type": "code",
   "execution_count": 2,
   "id": "3872016a-5ec0-4d86-9a01-82abd97e4ce6",
   "metadata": {},
   "outputs": [
    {
     "data": {
      "text/plain": [
       "'\\nAddress search - https://developer.tomtom.com/search-api/documentation/search-service/fuzzy-search\\n'"
      ]
     },
     "execution_count": 2,
     "metadata": {},
     "output_type": "execute_result"
    }
   ],
   "source": [
    "'''\n",
    "Address search - https://developer.tomtom.com/search-api/documentation/search-service/fuzzy-search\n",
    "'''"
   ]
  },
  {
   "cell_type": "code",
   "execution_count": 21,
   "id": "b622592b-5e1b-4fe4-8bce-164413dd91ef",
   "metadata": {},
   "outputs": [
    {
     "data": {
      "text/plain": [
       "{'poi_name': 'Broadway-City Hall Station',\n",
       " 'address': 'West Broadway, Vancouver BC V5Y 1R3',\n",
       " 'location': {'lat': 49.26303, 'lon': -123.11457}}"
      ]
     },
     "execution_count": 21,
     "metadata": {},
     "output_type": "execute_result"
    }
   ],
   "source": [
    "baseURL = \"api.tomtom.com\"\n",
    "versionNumber = str(2)\n",
    "ext = 'json'\n",
    "typeahead = 'false'\n",
    "country='CAN'\n",
    "\n",
    "\n",
    "def find_location(query):\n",
    "    '''\n",
    "    https://developer.tomtom.com/search-api/documentation/search-service/fuzzy-search\n",
    "    This function finds a place by name\n",
    "    @param: query - the name of a loctaion\n",
    "    @returns: location + more\n",
    "    '''\n",
    "    url = f'https://{baseURL}/search/{versionNumber}/search/{query}.{ext}?key={API_KEY}&typeahead={typeahead}&countrySet={country}'\n",
    "    res = requests.get(url)\n",
    "    if res:\n",
    "        res = res.json()\n",
    "        top = res['results'][0]\n",
    "        # print(top)\n",
    "        street_address = top['address']['freeformAddress']\n",
    "        location = top['position']\n",
    "        ret = {'poi_name':top['poi']['name'], 'address':street_address, 'location':location}\n",
    "        return ret\n",
    "    else:\n",
    "        print(\"Something went wrong\")\n",
    "        return None\n",
    "    \n",
    "res = find_location(query='Broadway City') \n",
    "res"
   ]
  },
  {
   "cell_type": "code",
   "execution_count": 25,
   "id": "0c1f9d9c-0d58-45ec-9f0d-9099e368744b",
   "metadata": {},
   "outputs": [],
   "source": [
    "\n",
    "def calculate_travel_time(origin, dest, travel_mode):\n",
    "    '''\n",
    "    https://developer.tomtom.com/routing-api/documentation/routing/calculate-route\n",
    "    @params: origin, dest - Two Python dicts with lat/lon\n",
    "    @params: travel_mode - can specify 'car' or 'pedestrian'\n",
    "    @returns: travelTime\n",
    "    '''\n",
    "    lat, lon = origin['lat'], origin['lon']\n",
    "    lat2, lon2 = dest['lat'], dest['lon']\n",
    "    journey = f\"{lat},{lon}:{lat2},{lon2}\"\n",
    "    url = f\"https://{baseURL}/routing/1/calculateRoute/{journey}/json?key={API_KEY}&travelMode={travel_mode}\"\n",
    "    res = requests.get(url).json()\n",
    "    best_route = res['routes'][0]\n",
    "    summary = best_route['summary']\n",
    "    return summary\n",
    "    \n",
    " \n",
    "user_loc = HOME\n",
    "dest_loc = find_location('Pacific Centre')['location']\n",
    "travel_route = calculate_travel_time(origin=HOME, dest=dest_loc, travel_mode='car')"
   ]
  },
  {
   "cell_type": "code",
   "execution_count": 23,
   "id": "40211052-c45e-473d-9cc5-6fd46f0b4931",
   "metadata": {},
   "outputs": [
    {
     "data": {
      "text/plain": [
       "{'lengthInMeters': 10839,\n",
       " 'travelTimeInSeconds': 1684,\n",
       " 'trafficDelayInSeconds': 53,\n",
       " 'trafficLengthInMeters': 150,\n",
       " 'departureTime': '2022-04-02T14:02:16-07:00',\n",
       " 'arrivalTime': '2022-04-02T14:30:20-07:00'}"
      ]
     },
     "execution_count": 23,
     "metadata": {},
     "output_type": "execute_result"
    }
   ],
   "source": [
    "travel_route"
   ]
  },
  {
   "cell_type": "markdown",
   "id": "c9446bfe-5994-4af6-a3ac-cd6a85dc19e7",
   "metadata": {},
   "source": [
    "# Class definition"
   ]
  },
  {
   "cell_type": "code",
   "execution_count": 26,
   "id": "4313cf2c-b492-4454-87ed-c1cef7ab67b4",
   "metadata": {},
   "outputs": [],
   "source": [
    "class TomSearchAPI(object):\n",
    "    def __init__(self, API_KEY):\n",
    "        self.baseURL = \"api.tomtom.com\"\n",
    "        self.versionNumber = str(2)\n",
    "        self.ext = 'json'\n",
    "        self.typeahead = 'false'\n",
    "        self.country='CAN'\n",
    "        self.API_KEY = API_KEY\n",
    "        \n",
    "    def find_location(self, query):\n",
    "        '''\n",
    "        https://developer.tomtom.com/search-api/documentation/search-service/fuzzy-search\n",
    "        This function finds a place by name\n",
    "        @param: query - the name of a loctaion\n",
    "        @returns: location + more\n",
    "        '''\n",
    "        url = f'https://{self.baseURL}/search/{self.versionNumber}/search/{query}.{self.ext}?key={self.API_KEY}&typeahead={self.typeahead}&countrySet={self.country}'\n",
    "        res = requests.get(url)\n",
    "        if res:\n",
    "            res = res.json()\n",
    "            top = res['results'][0]\n",
    "            # print(top)\n",
    "            street_address = top['address']['freeformAddress']\n",
    "            location = top['position']\n",
    "            ret = {'poi_name':top['poi']['name'], 'address':street_address, 'location':location}\n",
    "            return ret\n",
    "        else:\n",
    "            print(\"Something went wrong\")\n",
    "            return None\n",
    "        \n",
    "    def calculate_travel_time(origin, dest, travel_mode):\n",
    "        '''\n",
    "        https://developer.tomtom.com/routing-api/documentation/routing/calculate-route\n",
    "        @params: origin, dest - Two Python dicts with lat/lon\n",
    "        @params: travel_mode - can specify 'car' or 'pedestrian'\n",
    "        @returns: travelTime\n",
    "        '''\n",
    "        lat, lon = origin['lat'], origin['lon']\n",
    "        lat2, lon2 = dest['lat'], dest['lon']\n",
    "        journey = f\"{lat},{lon}:{lat2},{lon2}\"\n",
    "        url = f\"https://{baseURL}/routing/1/calculateRoute/{journey}/json?key={self.API_KEY}&travelMode={travel_mode}\"\n",
    "        res = requests.get(url).json()\n",
    "        best_route = res['routes'][0]\n",
    "        summary = best_route['summary']\n",
    "        return summary\n",
    "\n",
    "    "
   ]
  }
 ],
 "metadata": {
  "kernelspec": {
   "display_name": "geodat",
   "language": "python",
   "name": "geodat"
  },
  "language_info": {
   "codemirror_mode": {
    "name": "ipython",
    "version": 3
   },
   "file_extension": ".py",
   "mimetype": "text/x-python",
   "name": "python",
   "nbconvert_exporter": "python",
   "pygments_lexer": "ipython3",
   "version": "3.10.4"
  }
 },
 "nbformat": 4,
 "nbformat_minor": 5
}
