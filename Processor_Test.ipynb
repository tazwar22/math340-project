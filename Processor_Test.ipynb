{
 "cells": [
  {
   "cell_type": "code",
   "execution_count": 1,
   "id": "f788a138-97d5-499b-aa11-ed4ddb370270",
   "metadata": {},
   "outputs": [],
   "source": [
    "from utils.processor import *\n",
    "from utils.solver import *\n",
    "from config import *\n",
    "from utils.tom_api import *"
   ]
  },
  {
   "cell_type": "code",
   "execution_count": 2,
   "id": "a413f204-791e-440a-a667-9110897b843c",
   "metadata": {},
   "outputs": [
    {
     "name": "stdout",
     "output_type": "stream",
     "text": [
      "{'poi_name': 'Thierry', 'address': '1059 Alberni Street, Vancouver BC V6E 1A1', 'location': {'lat': 49.28507, 'lon': -123.12318}}\n"
     ]
    },
    {
     "data": {
      "text/plain": [
       "(49.28507, -123.12318)"
      ]
     },
     "execution_count": 2,
     "metadata": {},
     "output_type": "execute_result"
    }
   ],
   "source": [
    "data_dir = os.path.join(os.getcwd(), 'data')\n",
    "datapath = os.path.join(data_dir, 'parking-meters.csv')\n",
    "merged_datapath = os.path.join(data_dir, 'parking-meters_merged_twins.csv')\n",
    "origin = (HOME['lat'], HOME['lon'])\n",
    "# dest = (PACIFIC_CENTER['lat'], PACIFIC_CENTER['lon'])\n",
    "ttapi = TomSearchAPI(API_KEY)\n",
    "dest = ttapi.find_location('Thierry Alberni')\n",
    "print(dest)\n",
    "dest = dest['location']\n",
    "dest = (dest['lat'], dest['lon'])\n",
    "dest"
   ]
  },
  {
   "cell_type": "code",
   "execution_count": 4,
   "id": "4e633644-c612-4602-b103-17c09f57fb32",
   "metadata": {},
   "outputs": [
    {
     "name": "stdout",
     "output_type": "stream",
     "text": [
      "(3655, 24)\n",
      "(3655, 25)\n",
      "IDX - 0\n",
      "Time limit: 2 \t Rate: 8.0\n",
      "~~~~~~~~~~~~~~~~~~~~ Single ~~~~~~~~~~~~~~~~~~~~\n",
      "Skipping due to fee constraint\n",
      "IDX - 1\n",
      "Time limit: 2 \t Rate: 8.0\n",
      "******************** Twin **********************\n",
      "Skipping due to fee constraint\n",
      "IDX - 2\n",
      "Time limit: 2 \t Rate: 8.0\n",
      "~~~~~~~~~~~~~~~~~~~~ Single ~~~~~~~~~~~~~~~~~~~~\n",
      "Skipping due to fee constraint\n",
      "IDX - 3\n",
      "Time limit: 2 \t Rate: 4.0\n",
      "~~~~~~~~~~~~~~~~~~~~ Single ~~~~~~~~~~~~~~~~~~~~\n",
      "*** Travel time: 24.983333333333334 ***\n",
      "out: 2 - in: 1\n",
      "~~~ Parking Status: 2 ~~~\n",
      "{'b_1': 1.0, 'constraint_coeffs': {'parking_fee': 6.0, 'savings': 2.0, 'expected_avail': 2, 'et_next_out': 12.0, 'et_next_in': 22.0, 'walk_time': 1.333, 'travel_et': 24.983333333333334}, 'meterid': '650718', 'latln': (49.28495658101305, -123.12415802048334)}\n",
      "IDX - 4\n",
      "Time limit: 2 \t Rate: 8.0\n",
      "******************** Twin **********************\n",
      "Skipping due to fee constraint\n",
      "IDX - 5\n",
      "Time limit: 2 \t Rate: 8.0\n",
      "******************** Twin **********************\n",
      "Skipping due to fee constraint\n",
      "IDX - 6\n",
      "Time limit: 2 \t Rate: 8.0\n",
      "******************** Twin **********************\n",
      "Skipping due to fee constraint\n",
      "IDX - 7\n",
      "Time limit: 2 \t Rate: 5.0\n",
      "******************** Twin **********************\n",
      "*** Travel time: 25.166666666666668 ***\n",
      "out: 2 - in: 1\n",
      "~~~ Parking Status: 3 ~~~\n",
      "{'b_2': 1.0, 'constraint_coeffs': {'parking_fee': 7.5, 'savings': 0.5, 'expected_avail': 3, 'et_next_out': 9.0, 'et_next_in': 24.0, 'walk_time': 1.667, 'travel_et': 25.166666666666668}, 'meterid': \"('111103', '111101')\", 'latln': (49.28593363898792, -123.12324836757494)}\n",
      "IDX - 8\n",
      "Time limit: 2 \t Rate: 5.0\n",
      "******************** Twin **********************\n",
      "*** Travel time: 25.2 ***\n",
      "out: 2 - in: 1\n",
      "~~~ Parking Status: 3 ~~~\n",
      "{'b_3': 1.0, 'constraint_coeffs': {'parking_fee': 7.5, 'savings': 0.5, 'expected_avail': 3, 'et_next_out': 12.0, 'et_next_in': 25.0, 'walk_time': 1.817, 'travel_et': 25.2}, 'meterid': \"('111105', '111107')\", 'latln': (49.28600717931792, -123.12336188536602)}\n",
      "IDX - 9\n",
      "Time limit: 2 \t Rate: 5.0\n",
      "******************** Twin **********************\n",
      "*** Travel time: 24.816666666666666 ***\n",
      "out: 3 - in: 1\n",
      "~~~ Parking Status: 4 ~~~\n",
      "{'b_4': 1.0, 'constraint_coeffs': {'parking_fee': 7.5, 'savings': 0.5, 'expected_avail': 4, 'et_next_out': 8.0, 'et_next_in': 24.0, 'walk_time': 2.55, 'travel_et': 24.816666666666666}, 'meterid': \"('121039', '121037')\", 'latln': (49.28431317425479, -123.12424167113862)}\n"
     ]
    },
    {
     "data": {
      "text/plain": [
       "{'y_1': {'b_1': 1.0,\n",
       "  'constraint_coeffs': {'parking_fee': 6.0,\n",
       "   'savings': 2.0,\n",
       "   'expected_avail': 2,\n",
       "   'et_next_out': 12.0,\n",
       "   'et_next_in': 22.0,\n",
       "   'walk_time': 1.333,\n",
       "   'travel_et': 24.983333333333334},\n",
       "  'meterid': '650718',\n",
       "  'latln': (49.28495658101305, -123.12415802048334)},\n",
       " 'y_2': {'b_2': 1.0,\n",
       "  'constraint_coeffs': {'parking_fee': 7.5,\n",
       "   'savings': 0.5,\n",
       "   'expected_avail': 3,\n",
       "   'et_next_out': 9.0,\n",
       "   'et_next_in': 24.0,\n",
       "   'walk_time': 1.667,\n",
       "   'travel_et': 25.166666666666668},\n",
       "  'meterid': \"('111103', '111101')\",\n",
       "  'latln': (49.28593363898792, -123.12324836757494)},\n",
       " 'y_3': {'b_3': 1.0,\n",
       "  'constraint_coeffs': {'parking_fee': 7.5,\n",
       "   'savings': 0.5,\n",
       "   'expected_avail': 3,\n",
       "   'et_next_out': 12.0,\n",
       "   'et_next_in': 25.0,\n",
       "   'walk_time': 1.817,\n",
       "   'travel_et': 25.2},\n",
       "  'meterid': \"('111105', '111107')\",\n",
       "  'latln': (49.28600717931792, -123.12336188536602)},\n",
       " 'y_4': {'b_4': 1.0,\n",
       "  'constraint_coeffs': {'parking_fee': 7.5,\n",
       "   'savings': 0.5,\n",
       "   'expected_avail': 4,\n",
       "   'et_next_out': 8.0,\n",
       "   'et_next_in': 24.0,\n",
       "   'walk_time': 2.55,\n",
       "   'travel_et': 24.816666666666666},\n",
       "  'meterid': \"('121039', '121037')\",\n",
       "  'latln': (49.28431317425479, -123.12424167113862)}}"
      ]
     },
     "execution_count": 4,
     "metadata": {},
     "output_type": "execute_result"
    }
   ],
   "source": [
    "topK = 10\n",
    "stay_duration = 1.5 * 60 \n",
    "parking_budget = 8.00\n",
    "\n",
    "processor = Processor(datapath, merged_datapath, origin, dest, topK,\n",
    "                      stay_duration, parking_budget, load_merged=True)\n",
    "variables = processor.form_variables_dict()\n",
    "variables"
   ]
  },
  {
   "cell_type": "code",
   "execution_count": 5,
   "id": "55d6a58f-2e17-4395-832d-8fe31f1ae941",
   "metadata": {},
   "outputs": [
    {
     "name": "stdout",
     "output_type": "stream",
     "text": [
      "Welcome to the CBC MILP Solver \n",
      "Version: 2.10.3 \n",
      "Build Date: Dec 15 2019 \n",
      "\n",
      "command line - /Users/ahnafayub/opt/anaconda3/envs/geodat/lib/python3.10/site-packages/pulp/apis/../solverdir/cbc/osx/64/cbc /var/folders/52/md6yz3dn2g344wf8pqqb7kc80000gn/T/d688efe57d9d40aea3ad40a80b7017ac-pulp.mps timeMode elapsed branch printingOptions all solution /var/folders/52/md6yz3dn2g344wf8pqqb7kc80000gn/T/d688efe57d9d40aea3ad40a80b7017ac-pulp.sol (default strategy 1)\n",
      "At line 2 NAME          MODEL\n",
      "At line 3 ROWS\n",
      "At line 10 COLUMNS\n",
      "At line 35 RHS\n",
      "At line 41 BOUNDS\n",
      "At line 46 ENDATA\n",
      "Problem MODEL has 5 rows, 4 columns and 20 elements\n",
      "Coin0008I MODEL read with 0 errors\n",
      "Option for timeMode changed from cpu to elapsed\n",
      "Presolve 5 (0) rows, 4 (0) columns and 20 (0) elements\n",
      "Perturbing problem by 0.001% of 1.0013245 - largest nonzero change 1.7803928e-05 ( 0.0017803928%) - largest zero change 0\n",
      "0  Obj 0 Primal inf 1.1874998 (2)\n",
      "3  Obj 0.96782508\n",
      "Optimal - objective value 0.96781116\n",
      "Optimal objective 0.9678111588 - 3 iterations time 0.002\n",
      "Option for printingOptions changed from normal to all\n",
      "Total time (CPU seconds):       0.00   (Wallclock seconds):       0.03\n",
      "\n",
      "******************************STATUS******************************\n",
      "Solution status: Optimal\n",
      "~~~ Values ~~~\n",
      "y_1  = 0.26072961\n",
      "y_2  = 0.34978541\n",
      "y_3  = 0.0\n",
      "y_4  = 0.35729614\n",
      "***************************************************************\n"
     ]
    },
    {
     "data": {
      "text/html": [
       "<div>\n",
       "<style scoped>\n",
       "    .dataframe tbody tr th:only-of-type {\n",
       "        vertical-align: middle;\n",
       "    }\n",
       "\n",
       "    .dataframe tbody tr th {\n",
       "        vertical-align: top;\n",
       "    }\n",
       "\n",
       "    .dataframe thead th {\n",
       "        text-align: right;\n",
       "    }\n",
       "</style>\n",
       "<table border=\"1\" class=\"dataframe\">\n",
       "  <thead>\n",
       "    <tr style=\"text-align: right;\">\n",
       "      <th></th>\n",
       "      <th>var</th>\n",
       "      <th>optimal_weight</th>\n",
       "      <th>parking_fee</th>\n",
       "      <th>expected_avail</th>\n",
       "      <th>travel_et</th>\n",
       "      <th>walk_time</th>\n",
       "      <th>et_next_out</th>\n",
       "      <th>et_next_in</th>\n",
       "    </tr>\n",
       "  </thead>\n",
       "  <tbody>\n",
       "    <tr>\n",
       "      <th>3</th>\n",
       "      <td>y_4</td>\n",
       "      <td>0.357296</td>\n",
       "      <td>7.5</td>\n",
       "      <td>4</td>\n",
       "      <td>24.816667</td>\n",
       "      <td>2.550</td>\n",
       "      <td>8.0</td>\n",
       "      <td>24.0</td>\n",
       "    </tr>\n",
       "    <tr>\n",
       "      <th>1</th>\n",
       "      <td>y_2</td>\n",
       "      <td>0.349785</td>\n",
       "      <td>7.5</td>\n",
       "      <td>3</td>\n",
       "      <td>25.166667</td>\n",
       "      <td>1.667</td>\n",
       "      <td>9.0</td>\n",
       "      <td>24.0</td>\n",
       "    </tr>\n",
       "    <tr>\n",
       "      <th>0</th>\n",
       "      <td>y_1</td>\n",
       "      <td>0.260730</td>\n",
       "      <td>6.0</td>\n",
       "      <td>2</td>\n",
       "      <td>24.983333</td>\n",
       "      <td>1.333</td>\n",
       "      <td>12.0</td>\n",
       "      <td>22.0</td>\n",
       "    </tr>\n",
       "    <tr>\n",
       "      <th>2</th>\n",
       "      <td>y_3</td>\n",
       "      <td>0.000000</td>\n",
       "      <td>7.5</td>\n",
       "      <td>3</td>\n",
       "      <td>25.200000</td>\n",
       "      <td>1.817</td>\n",
       "      <td>12.0</td>\n",
       "      <td>25.0</td>\n",
       "    </tr>\n",
       "  </tbody>\n",
       "</table>\n",
       "</div>"
      ],
      "text/plain": [
       "   var  optimal_weight  parking_fee  expected_avail  travel_et  walk_time  \\\n",
       "3  y_4        0.357296          7.5               4  24.816667      2.550   \n",
       "1  y_2        0.349785          7.5               3  25.166667      1.667   \n",
       "0  y_1        0.260730          6.0               2  24.983333      1.333   \n",
       "2  y_3        0.000000          7.5               3  25.200000      1.817   \n",
       "\n",
       "   et_next_out  et_next_in  \n",
       "3          8.0        24.0  \n",
       "1          9.0        24.0  \n",
       "0         12.0        22.0  \n",
       "2         12.0        25.0  "
      ]
     },
     "execution_count": 5,
     "metadata": {},
     "output_type": "execute_result"
    }
   ],
   "source": [
    "solver = Solver(variables)\n",
    "solver.solve_LP()\n",
    "soln = solver.get_soln_summary()\n",
    "soln"
   ]
  },
  {
   "cell_type": "markdown",
   "id": "173b9719-e18f-4abf-a1ab-0fd7e96a2b13",
   "metadata": {},
   "source": [
    "# Visualization"
   ]
  },
  {
   "cell_type": "code",
   "execution_count": 6,
   "id": "8ac31286-a23f-48e5-8402-8f95c174e208",
   "metadata": {},
   "outputs": [
    {
     "name": "stdout",
     "output_type": "stream",
     "text": [
      "y_4\n",
      "y_2\n",
      "y_1\n"
     ]
    },
    {
     "data": {
      "text/html": [
       "<div style=\"width:100%;\"><div style=\"position:relative;width:100%;height:0;padding-bottom:60%;\"><span style=\"color:#565656\">Make this Notebook Trusted to load map: File -> Trust Notebook</span><iframe src=\"about:blank\" style=\"position:absolute;width:100%;height:100%;left:0;top:0;border:none !important;\" data-html=%3C%21DOCTYPE%20html%3E%0A%3Chead%3E%20%20%20%20%0A%20%20%20%20%3Cmeta%20http-equiv%3D%22content-type%22%20content%3D%22text/html%3B%20charset%3DUTF-8%22%20/%3E%0A%20%20%20%20%0A%20%20%20%20%20%20%20%20%3Cscript%3E%0A%20%20%20%20%20%20%20%20%20%20%20%20L_NO_TOUCH%20%3D%20false%3B%0A%20%20%20%20%20%20%20%20%20%20%20%20L_DISABLE_3D%20%3D%20false%3B%0A%20%20%20%20%20%20%20%20%3C/script%3E%0A%20%20%20%20%0A%20%20%20%20%3Cstyle%3Ehtml%2C%20body%20%7Bwidth%3A%20100%25%3Bheight%3A%20100%25%3Bmargin%3A%200%3Bpadding%3A%200%3B%7D%3C/style%3E%0A%20%20%20%20%3Cstyle%3E%23map%20%7Bposition%3Aabsolute%3Btop%3A0%3Bbottom%3A0%3Bright%3A0%3Bleft%3A0%3B%7D%3C/style%3E%0A%20%20%20%20%3Cscript%20src%3D%22https%3A//cdn.jsdelivr.net/npm/leaflet%401.6.0/dist/leaflet.js%22%3E%3C/script%3E%0A%20%20%20%20%3Cscript%20src%3D%22https%3A//code.jquery.com/jquery-1.12.4.min.js%22%3E%3C/script%3E%0A%20%20%20%20%3Cscript%20src%3D%22https%3A//maxcdn.bootstrapcdn.com/bootstrap/3.2.0/js/bootstrap.min.js%22%3E%3C/script%3E%0A%20%20%20%20%3Cscript%20src%3D%22https%3A//cdnjs.cloudflare.com/ajax/libs/Leaflet.awesome-markers/2.0.2/leaflet.awesome-markers.js%22%3E%3C/script%3E%0A%20%20%20%20%3Clink%20rel%3D%22stylesheet%22%20href%3D%22https%3A//cdn.jsdelivr.net/npm/leaflet%401.6.0/dist/leaflet.css%22/%3E%0A%20%20%20%20%3Clink%20rel%3D%22stylesheet%22%20href%3D%22https%3A//maxcdn.bootstrapcdn.com/bootstrap/3.2.0/css/bootstrap.min.css%22/%3E%0A%20%20%20%20%3Clink%20rel%3D%22stylesheet%22%20href%3D%22https%3A//maxcdn.bootstrapcdn.com/bootstrap/3.2.0/css/bootstrap-theme.min.css%22/%3E%0A%20%20%20%20%3Clink%20rel%3D%22stylesheet%22%20href%3D%22https%3A//maxcdn.bootstrapcdn.com/font-awesome/4.6.3/css/font-awesome.min.css%22/%3E%0A%20%20%20%20%3Clink%20rel%3D%22stylesheet%22%20href%3D%22https%3A//cdnjs.cloudflare.com/ajax/libs/Leaflet.awesome-markers/2.0.2/leaflet.awesome-markers.css%22/%3E%0A%20%20%20%20%3Clink%20rel%3D%22stylesheet%22%20href%3D%22https%3A//cdn.jsdelivr.net/gh/python-visualization/folium/folium/templates/leaflet.awesome.rotate.min.css%22/%3E%0A%20%20%20%20%0A%20%20%20%20%20%20%20%20%20%20%20%20%3Cmeta%20name%3D%22viewport%22%20content%3D%22width%3Ddevice-width%2C%0A%20%20%20%20%20%20%20%20%20%20%20%20%20%20%20%20initial-scale%3D1.0%2C%20maximum-scale%3D1.0%2C%20user-scalable%3Dno%22%20/%3E%0A%20%20%20%20%20%20%20%20%20%20%20%20%3Cstyle%3E%0A%20%20%20%20%20%20%20%20%20%20%20%20%20%20%20%20%23map_bdc1b8e21d064de8bf8b53aeb5d97beb%20%7B%0A%20%20%20%20%20%20%20%20%20%20%20%20%20%20%20%20%20%20%20%20position%3A%20relative%3B%0A%20%20%20%20%20%20%20%20%20%20%20%20%20%20%20%20%20%20%20%20width%3A%20100.0%25%3B%0A%20%20%20%20%20%20%20%20%20%20%20%20%20%20%20%20%20%20%20%20height%3A%2050.0%25%3B%0A%20%20%20%20%20%20%20%20%20%20%20%20%20%20%20%20%20%20%20%20left%3A%200.0%25%3B%0A%20%20%20%20%20%20%20%20%20%20%20%20%20%20%20%20%20%20%20%20top%3A%200.0%25%3B%0A%20%20%20%20%20%20%20%20%20%20%20%20%20%20%20%20%7D%0A%20%20%20%20%20%20%20%20%20%20%20%20%3C/style%3E%0A%20%20%20%20%20%20%20%20%0A%3C/head%3E%0A%3Cbody%3E%20%20%20%20%0A%20%20%20%20%0A%20%20%20%20%20%20%20%20%20%20%20%20%3Cdiv%20class%3D%22folium-map%22%20id%3D%22map_bdc1b8e21d064de8bf8b53aeb5d97beb%22%20%3E%3C/div%3E%0A%20%20%20%20%20%20%20%20%0A%3C/body%3E%0A%3Cscript%3E%20%20%20%20%0A%20%20%20%20%0A%20%20%20%20%20%20%20%20%20%20%20%20var%20map_bdc1b8e21d064de8bf8b53aeb5d97beb%20%3D%20L.map%28%0A%20%20%20%20%20%20%20%20%20%20%20%20%20%20%20%20%22map_bdc1b8e21d064de8bf8b53aeb5d97beb%22%2C%0A%20%20%20%20%20%20%20%20%20%20%20%20%20%20%20%20%7B%0A%20%20%20%20%20%20%20%20%20%20%20%20%20%20%20%20%20%20%20%20center%3A%20%5B49.28507%2C%20-123.12318%5D%2C%0A%20%20%20%20%20%20%20%20%20%20%20%20%20%20%20%20%20%20%20%20crs%3A%20L.CRS.EPSG3857%2C%0A%20%20%20%20%20%20%20%20%20%20%20%20%20%20%20%20%20%20%20%20zoom%3A%2016%2C%0A%20%20%20%20%20%20%20%20%20%20%20%20%20%20%20%20%20%20%20%20zoomControl%3A%20true%2C%0A%20%20%20%20%20%20%20%20%20%20%20%20%20%20%20%20%20%20%20%20preferCanvas%3A%20false%2C%0A%20%20%20%20%20%20%20%20%20%20%20%20%20%20%20%20%7D%0A%20%20%20%20%20%20%20%20%20%20%20%20%29%3B%0A%0A%20%20%20%20%20%20%20%20%20%20%20%20%0A%0A%20%20%20%20%20%20%20%20%0A%20%20%20%20%0A%20%20%20%20%20%20%20%20%20%20%20%20var%20tile_layer_fd1690576396439d8e595302d3e3dd2b%20%3D%20L.tileLayer%28%0A%20%20%20%20%20%20%20%20%20%20%20%20%20%20%20%20%22https%3A//%7Bs%7D.tile.openstreetmap.org/%7Bz%7D/%7Bx%7D/%7By%7D.png%22%2C%0A%20%20%20%20%20%20%20%20%20%20%20%20%20%20%20%20%7B%22attribution%22%3A%20%22Data%20by%20%5Cu0026copy%3B%20%5Cu003ca%20href%3D%5C%22http%3A//openstreetmap.org%5C%22%5Cu003eOpenStreetMap%5Cu003c/a%5Cu003e%2C%20under%20%5Cu003ca%20href%3D%5C%22http%3A//www.openstreetmap.org/copyright%5C%22%5Cu003eODbL%5Cu003c/a%5Cu003e.%22%2C%20%22detectRetina%22%3A%20false%2C%20%22maxNativeZoom%22%3A%2018%2C%20%22maxZoom%22%3A%2018%2C%20%22minZoom%22%3A%200%2C%20%22noWrap%22%3A%20false%2C%20%22opacity%22%3A%201%2C%20%22subdomains%22%3A%20%22abc%22%2C%20%22tms%22%3A%20false%7D%0A%20%20%20%20%20%20%20%20%20%20%20%20%29.addTo%28map_bdc1b8e21d064de8bf8b53aeb5d97beb%29%3B%0A%20%20%20%20%20%20%20%20%0A%20%20%20%20%0A%20%20%20%20%20%20%20%20%20%20%20%20var%20marker_a3d02e71b76a40708bf10ab066ed12a7%20%3D%20L.marker%28%0A%20%20%20%20%20%20%20%20%20%20%20%20%20%20%20%20%5B49.28507%2C%20-123.12318%5D%2C%0A%20%20%20%20%20%20%20%20%20%20%20%20%20%20%20%20%7B%7D%0A%20%20%20%20%20%20%20%20%20%20%20%20%29.addTo%28map_bdc1b8e21d064de8bf8b53aeb5d97beb%29%3B%0A%20%20%20%20%20%20%20%20%0A%20%20%20%20%0A%20%20%20%20%20%20%20%20%20%20%20%20var%20icon_88fef60c02e04ceda329a3608495b9b5%20%3D%20L.AwesomeMarkers.icon%28%0A%20%20%20%20%20%20%20%20%20%20%20%20%20%20%20%20%7B%22extraClasses%22%3A%20%22fa-rotate-0%22%2C%20%22icon%22%3A%20%22location-dot%22%2C%20%22iconColor%22%3A%20%22white%22%2C%20%22markerColor%22%3A%20%22red%22%2C%20%22prefix%22%3A%20%22fa%22%7D%0A%20%20%20%20%20%20%20%20%20%20%20%20%29%3B%0A%20%20%20%20%20%20%20%20%20%20%20%20marker_a3d02e71b76a40708bf10ab066ed12a7.setIcon%28icon_88fef60c02e04ceda329a3608495b9b5%29%3B%0A%20%20%20%20%20%20%20%20%0A%20%20%20%20%0A%20%20%20%20%20%20%20%20%20%20%20%20var%20marker_e20659cc133c47929dd7fb21eb1f6c2b%20%3D%20L.marker%28%0A%20%20%20%20%20%20%20%20%20%20%20%20%20%20%20%20%5B49.28431317425479%2C%20-123.12424167113862%5D%2C%0A%20%20%20%20%20%20%20%20%20%20%20%20%20%20%20%20%7B%7D%0A%20%20%20%20%20%20%20%20%20%20%20%20%29.addTo%28map_bdc1b8e21d064de8bf8b53aeb5d97beb%29%3B%0A%20%20%20%20%20%20%20%20%0A%20%20%20%20%0A%20%20%20%20%20%20%20%20%20%20%20%20var%20div_icon_e1ca0b96aa434de383777de13bcbc1d7%20%3D%20L.divIcon%28%7B%22className%22%3A%20%22empty%22%2C%20%22html%22%3A%20%22%5Cu003cdiv%20style%3D%5C%22font-size%3A%2018pt%3B%20color%20%3A%20black%5C%22%5Cu003e1%5Cu003c/div%5Cu003e%22%2C%20%22iconAnchor%22%3A%20%5B7%2C%2020%5D%2C%20%22iconSize%22%3A%20%5B150%2C%2036%5D%7D%29%3B%0A%20%20%20%20%20%20%20%20%20%20%20%20marker_e20659cc133c47929dd7fb21eb1f6c2b.setIcon%28div_icon_e1ca0b96aa434de383777de13bcbc1d7%29%3B%0A%20%20%20%20%20%20%20%20%0A%20%20%20%20%0A%20%20%20%20%20%20%20%20var%20popup_0d3ce6f5654c4b4492d47e99a7dbbd98%20%3D%20L.popup%28%7B%22maxWidth%22%3A%20%22100%25%22%7D%29%3B%0A%0A%20%20%20%20%20%20%20%20%0A%20%20%20%20%20%20%20%20%20%20%20%20var%20html_85a014e0fdbc4219aed027bcf20865d7%20%3D%20%24%28%60%3Cdiv%20id%3D%22html_85a014e0fdbc4219aed027bcf20865d7%22%20style%3D%22width%3A%20100.0%25%3B%20height%3A%20100.0%25%3B%22%3ERank-1%3C/div%3E%60%29%5B0%5D%3B%0A%20%20%20%20%20%20%20%20%20%20%20%20popup_0d3ce6f5654c4b4492d47e99a7dbbd98.setContent%28html_85a014e0fdbc4219aed027bcf20865d7%29%3B%0A%20%20%20%20%20%20%20%20%0A%0A%20%20%20%20%20%20%20%20marker_e20659cc133c47929dd7fb21eb1f6c2b.bindPopup%28popup_0d3ce6f5654c4b4492d47e99a7dbbd98%29%0A%20%20%20%20%20%20%20%20%3B%0A%0A%20%20%20%20%20%20%20%20%0A%20%20%20%20%0A%20%20%20%20%0A%20%20%20%20%20%20%20%20%20%20%20%20var%20circle_marker_f72aad7d59b54f5d9c9189214a527fd5%20%3D%20L.circleMarker%28%0A%20%20%20%20%20%20%20%20%20%20%20%20%20%20%20%20%5B49.28431317425479%2C%20-123.12424167113862%5D%2C%0A%20%20%20%20%20%20%20%20%20%20%20%20%20%20%20%20%7B%22bubblingMouseEvents%22%3A%20true%2C%20%22color%22%3A%20%22%233388ff%22%2C%20%22dashArray%22%3A%20null%2C%20%22dashOffset%22%3A%20null%2C%20%22fill%22%3A%20false%2C%20%22fillColor%22%3A%20%22%233388ff%22%2C%20%22fillOpacity%22%3A%200.2%2C%20%22fillRule%22%3A%20%22evenodd%22%2C%20%22lineCap%22%3A%20%22round%22%2C%20%22lineJoin%22%3A%20%22round%22%2C%20%22opacity%22%3A%201.0%2C%20%22radius%22%3A%2015%2C%20%22stroke%22%3A%20true%2C%20%22weight%22%3A%203%7D%0A%20%20%20%20%20%20%20%20%20%20%20%20%29.addTo%28map_bdc1b8e21d064de8bf8b53aeb5d97beb%29%3B%0A%20%20%20%20%20%20%20%20%0A%20%20%20%20%0A%20%20%20%20%20%20%20%20%20%20%20%20var%20marker_8f5fd450d1814b21a89cdc5beb30190c%20%3D%20L.marker%28%0A%20%20%20%20%20%20%20%20%20%20%20%20%20%20%20%20%5B49.28593363898792%2C%20-123.12324836757494%5D%2C%0A%20%20%20%20%20%20%20%20%20%20%20%20%20%20%20%20%7B%7D%0A%20%20%20%20%20%20%20%20%20%20%20%20%29.addTo%28map_bdc1b8e21d064de8bf8b53aeb5d97beb%29%3B%0A%20%20%20%20%20%20%20%20%0A%20%20%20%20%0A%20%20%20%20%20%20%20%20%20%20%20%20var%20div_icon_e9751bdaf31140a3b3f0ee587c9c8274%20%3D%20L.divIcon%28%7B%22className%22%3A%20%22empty%22%2C%20%22html%22%3A%20%22%5Cu003cdiv%20style%3D%5C%22font-size%3A%2018pt%3B%20color%20%3A%20black%5C%22%5Cu003e2%5Cu003c/div%5Cu003e%22%2C%20%22iconAnchor%22%3A%20%5B7%2C%2020%5D%2C%20%22iconSize%22%3A%20%5B150%2C%2036%5D%7D%29%3B%0A%20%20%20%20%20%20%20%20%20%20%20%20marker_8f5fd450d1814b21a89cdc5beb30190c.setIcon%28div_icon_e9751bdaf31140a3b3f0ee587c9c8274%29%3B%0A%20%20%20%20%20%20%20%20%0A%20%20%20%20%0A%20%20%20%20%20%20%20%20var%20popup_be5a271509b74c65a9a8dcfd41439985%20%3D%20L.popup%28%7B%22maxWidth%22%3A%20%22100%25%22%7D%29%3B%0A%0A%20%20%20%20%20%20%20%20%0A%20%20%20%20%20%20%20%20%20%20%20%20var%20html_6afad307eb20471296a01a21cdc90d4e%20%3D%20%24%28%60%3Cdiv%20id%3D%22html_6afad307eb20471296a01a21cdc90d4e%22%20style%3D%22width%3A%20100.0%25%3B%20height%3A%20100.0%25%3B%22%3ERank-2%3C/div%3E%60%29%5B0%5D%3B%0A%20%20%20%20%20%20%20%20%20%20%20%20popup_be5a271509b74c65a9a8dcfd41439985.setContent%28html_6afad307eb20471296a01a21cdc90d4e%29%3B%0A%20%20%20%20%20%20%20%20%0A%0A%20%20%20%20%20%20%20%20marker_8f5fd450d1814b21a89cdc5beb30190c.bindPopup%28popup_be5a271509b74c65a9a8dcfd41439985%29%0A%20%20%20%20%20%20%20%20%3B%0A%0A%20%20%20%20%20%20%20%20%0A%20%20%20%20%0A%20%20%20%20%0A%20%20%20%20%20%20%20%20%20%20%20%20var%20circle_marker_c0ff38ba643e4a40b6ebc38898aba025%20%3D%20L.circleMarker%28%0A%20%20%20%20%20%20%20%20%20%20%20%20%20%20%20%20%5B49.28593363898792%2C%20-123.12324836757494%5D%2C%0A%20%20%20%20%20%20%20%20%20%20%20%20%20%20%20%20%7B%22bubblingMouseEvents%22%3A%20true%2C%20%22color%22%3A%20%22%233388ff%22%2C%20%22dashArray%22%3A%20null%2C%20%22dashOffset%22%3A%20null%2C%20%22fill%22%3A%20false%2C%20%22fillColor%22%3A%20%22%233388ff%22%2C%20%22fillOpacity%22%3A%200.2%2C%20%22fillRule%22%3A%20%22evenodd%22%2C%20%22lineCap%22%3A%20%22round%22%2C%20%22lineJoin%22%3A%20%22round%22%2C%20%22opacity%22%3A%201.0%2C%20%22radius%22%3A%2015%2C%20%22stroke%22%3A%20true%2C%20%22weight%22%3A%203%7D%0A%20%20%20%20%20%20%20%20%20%20%20%20%29.addTo%28map_bdc1b8e21d064de8bf8b53aeb5d97beb%29%3B%0A%20%20%20%20%20%20%20%20%0A%20%20%20%20%0A%20%20%20%20%20%20%20%20%20%20%20%20var%20marker_be2ce4b429ba44189608af4af7b614b2%20%3D%20L.marker%28%0A%20%20%20%20%20%20%20%20%20%20%20%20%20%20%20%20%5B49.28495658101305%2C%20-123.12415802048334%5D%2C%0A%20%20%20%20%20%20%20%20%20%20%20%20%20%20%20%20%7B%7D%0A%20%20%20%20%20%20%20%20%20%20%20%20%29.addTo%28map_bdc1b8e21d064de8bf8b53aeb5d97beb%29%3B%0A%20%20%20%20%20%20%20%20%0A%20%20%20%20%0A%20%20%20%20%20%20%20%20%20%20%20%20var%20div_icon_bc85b5dcfc644876ba1e2dcefe37b976%20%3D%20L.divIcon%28%7B%22className%22%3A%20%22empty%22%2C%20%22html%22%3A%20%22%5Cu003cdiv%20style%3D%5C%22font-size%3A%2018pt%3B%20color%20%3A%20black%5C%22%5Cu003e3%5Cu003c/div%5Cu003e%22%2C%20%22iconAnchor%22%3A%20%5B7%2C%2020%5D%2C%20%22iconSize%22%3A%20%5B150%2C%2036%5D%7D%29%3B%0A%20%20%20%20%20%20%20%20%20%20%20%20marker_be2ce4b429ba44189608af4af7b614b2.setIcon%28div_icon_bc85b5dcfc644876ba1e2dcefe37b976%29%3B%0A%20%20%20%20%20%20%20%20%0A%20%20%20%20%0A%20%20%20%20%20%20%20%20var%20popup_a6210736ad224498ba5012a97296f677%20%3D%20L.popup%28%7B%22maxWidth%22%3A%20%22100%25%22%7D%29%3B%0A%0A%20%20%20%20%20%20%20%20%0A%20%20%20%20%20%20%20%20%20%20%20%20var%20html_003ff5e6e96c48d0841be9df755fe151%20%3D%20%24%28%60%3Cdiv%20id%3D%22html_003ff5e6e96c48d0841be9df755fe151%22%20style%3D%22width%3A%20100.0%25%3B%20height%3A%20100.0%25%3B%22%3ERank-3%3C/div%3E%60%29%5B0%5D%3B%0A%20%20%20%20%20%20%20%20%20%20%20%20popup_a6210736ad224498ba5012a97296f677.setContent%28html_003ff5e6e96c48d0841be9df755fe151%29%3B%0A%20%20%20%20%20%20%20%20%0A%0A%20%20%20%20%20%20%20%20marker_be2ce4b429ba44189608af4af7b614b2.bindPopup%28popup_a6210736ad224498ba5012a97296f677%29%0A%20%20%20%20%20%20%20%20%3B%0A%0A%20%20%20%20%20%20%20%20%0A%20%20%20%20%0A%20%20%20%20%0A%20%20%20%20%20%20%20%20%20%20%20%20var%20circle_marker_aec12f9f642849b5b6549454ba3591a4%20%3D%20L.circleMarker%28%0A%20%20%20%20%20%20%20%20%20%20%20%20%20%20%20%20%5B49.28495658101305%2C%20-123.12415802048334%5D%2C%0A%20%20%20%20%20%20%20%20%20%20%20%20%20%20%20%20%7B%22bubblingMouseEvents%22%3A%20true%2C%20%22color%22%3A%20%22%233388ff%22%2C%20%22dashArray%22%3A%20null%2C%20%22dashOffset%22%3A%20null%2C%20%22fill%22%3A%20false%2C%20%22fillColor%22%3A%20%22%233388ff%22%2C%20%22fillOpacity%22%3A%200.2%2C%20%22fillRule%22%3A%20%22evenodd%22%2C%20%22lineCap%22%3A%20%22round%22%2C%20%22lineJoin%22%3A%20%22round%22%2C%20%22opacity%22%3A%201.0%2C%20%22radius%22%3A%2015%2C%20%22stroke%22%3A%20true%2C%20%22weight%22%3A%203%7D%0A%20%20%20%20%20%20%20%20%20%20%20%20%29.addTo%28map_bdc1b8e21d064de8bf8b53aeb5d97beb%29%3B%0A%20%20%20%20%20%20%20%20%0A%3C/script%3E onload=\"this.contentDocument.open();this.contentDocument.write(    decodeURIComponent(this.getAttribute('data-html')));this.contentDocument.close();\" allowfullscreen webkitallowfullscreen mozallowfullscreen></iframe></div></div>"
      ],
      "text/plain": [
       "<folium.folium.Map at 0x138b45750>"
      ]
     },
     "execution_count": 6,
     "metadata": {},
     "output_type": "execute_result"
    }
   ],
   "source": [
    "import folium\n",
    "from folium.features import DivIcon\n",
    "\n",
    "fmap = folium.Map(location=dest, zoom_start=16, width=\"100%\", height=\"50%\")\n",
    "\n",
    "# folium.Marker(\n",
    "#     location=origin, icon=folium.Icon(color=\"red\",icon=\"home\", prefix='fa')\n",
    "# ).add_to(fmap)\n",
    "\n",
    "folium.Marker(\n",
    "    location=dest, icon=folium.Icon(color=\"red\",icon=\"location-dot\", prefix='fa')\n",
    ").add_to(fmap)\n",
    "\n",
    "\n",
    "for i, spot in enumerate(soln.loc[soln.optimal_weight > 0]['var']):\n",
    "    print(spot)\n",
    "    rank = i+1\n",
    "    spot_loc = variables[spot]['latln']\n",
    "    folium.Marker(\n",
    "        location = spot_loc,\n",
    "        popup = f'Rank-{rank}',\n",
    "        icon=DivIcon(\n",
    "            icon_size=(150,36),\n",
    "            icon_anchor=(7,20),\n",
    "            html=f'<div style=\"font-size: 18pt; color : black\">{rank}</div>',\n",
    "            )\n",
    "    ).add_to(fmap)\n",
    "    fmap.add_child(folium.CircleMarker(spot_loc, radius=15))\n",
    "\n",
    "fmap"
   ]
  },
  {
   "cell_type": "code",
   "execution_count": null,
   "id": "43d61b3e-f2e1-4e8c-bdd3-d560dd3f3e6a",
   "metadata": {},
   "outputs": [],
   "source": []
  },
  {
   "cell_type": "code",
   "execution_count": null,
   "id": "aaea3af7-6731-4b8a-831b-c749c62fd274",
   "metadata": {},
   "outputs": [],
   "source": []
  }
 ],
 "metadata": {
  "kernelspec": {
   "display_name": "geodat",
   "language": "python",
   "name": "geodat"
  },
  "language_info": {
   "codemirror_mode": {
    "name": "ipython",
    "version": 3
   },
   "file_extension": ".py",
   "mimetype": "text/x-python",
   "name": "python",
   "nbconvert_exporter": "python",
   "pygments_lexer": "ipython3",
   "version": "3.10.4"
  }
 },
 "nbformat": 4,
 "nbformat_minor": 5
}
