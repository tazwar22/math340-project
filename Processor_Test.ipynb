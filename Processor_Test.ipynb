{
 "cells": [
  {
   "cell_type": "code",
   "execution_count": 35,
   "id": "f788a138-97d5-499b-aa11-ed4ddb370270",
   "metadata": {},
   "outputs": [],
   "source": [
    "from utils.processor import *\n",
    "from utils.solver import *\n",
    "from config import *\n",
    "from utils.tom_api import *"
   ]
  },
  {
   "cell_type": "code",
   "execution_count": 36,
   "id": "a413f204-791e-440a-a667-9110897b843c",
   "metadata": {},
   "outputs": [
    {
     "name": "stdout",
     "output_type": "stream",
     "text": [
      "{'poi_name': 'Five Guys', 'address': '635 Robson Street, Vancouver BC V6B 1H3', 'location': {'lat': 49.28106, 'lon': -123.11902}}\n"
     ]
    },
    {
     "data": {
      "text/plain": [
       "(49.28106, -123.11902)"
      ]
     },
     "execution_count": 36,
     "metadata": {},
     "output_type": "execute_result"
    }
   ],
   "source": [
    "data_dir = os.path.join(os.getcwd(), 'data')\n",
    "datapath = os.path.join(data_dir, 'parking-meters.csv')\n",
    "origin = (HOME['lat'], HOME['lon'])\n",
    "# dest = (PACIFIC_CENTER['lat'], PACIFIC_CENTER['lon'])\n",
    "ttapi = TomSearchAPI(API_KEY)\n",
    "dest = ttapi.find_location('Five Guys Vancouver')\n",
    "print(dest)\n",
    "dest = dest['location']\n",
    "dest = (dest['lat'], dest['lon'])\n",
    "dest"
   ]
  },
  {
   "cell_type": "code",
   "execution_count": 37,
   "id": "4e633644-c612-4602-b103-17c09f57fb32",
   "metadata": {},
   "outputs": [
    {
     "name": "stdout",
     "output_type": "stream",
     "text": [
      "(7954, 21)\n",
      "(618, 23)\n",
      "IDX - 0\n",
      "Time limit: 2 \t Rate: 3.0\n",
      "*** Travel time: 16.65 ***\n",
      "out: 0 - in: 0\n",
      "~~~ Parking Status: 0 ~~~\n",
      "SKIPPING! No spot will be available\n",
      "IDX - 1\n",
      "Time limit: 2 \t Rate: 3.0\n",
      "*** Travel time: 16.55 ***\n",
      "out: 0 - in: 0\n",
      "~~~ Parking Status: 0 ~~~\n",
      "SKIPPING! No spot will be available\n",
      "IDX - 2\n",
      "Time limit: 2 \t Rate: 4.0\n",
      "Skipping due to fee constraint\n",
      "IDX - 3\n",
      "Time limit: 2 \t Rate: 3.0\n",
      "*** Travel time: 16.483333333333334 ***\n",
      "out: 0 - in: 0\n",
      "~~~ Parking Status: 0 ~~~\n",
      "SKIPPING! No spot will be available\n",
      "IDX - 4\n",
      "Time limit: 2 \t Rate: 3.0\n",
      "*** Travel time: 16.45 ***\n",
      "out: 0 - in: 0\n",
      "~~~ Parking Status: 0 ~~~\n",
      "SKIPPING! No spot will be available\n",
      "IDX - 5\n",
      "Time limit: 2 \t Rate: 5.0\n",
      "Skipping due to fee constraint\n",
      "IDX - 6\n",
      "Time limit: 2 \t Rate: 5.0\n",
      "Skipping due to fee constraint\n",
      "IDX - 7\n",
      "Time limit: 2 \t Rate: 1.0\n",
      "*** Travel time: 16.25 ***\n",
      "out: 1 - in: 0\n",
      "~~~ Parking Status: 2 ~~~\n",
      "{'b_1': 1.0, 'constraint_coeffs': {'parking_fee': 1.5, 'savings': 3.5, 'expected_avail': 2, 'et_next_out': 10.0, 'et_next_in': 21.0, 'walk_time': 3.083, 'travel_et': 16.25}, 'meterid': '600903', 'latln': (49.27954585600124, -123.12074549294861)}\n",
      "IDX - 8\n",
      "Time limit: 2 \t Rate: 1.0\n",
      "*** Travel time: 16.083333333333332 ***\n",
      "out: 1 - in: 0\n",
      "~~~ Parking Status: 2 ~~~\n",
      "{'b_2': 1.0, 'constraint_coeffs': {'parking_fee': 1.5, 'savings': 3.5, 'expected_avail': 2, 'et_next_out': 15.0, 'et_next_in': 26.0, 'walk_time': 3.75, 'travel_et': 16.083333333333332}, 'meterid': '600921', 'latln': (49.27919165701666, -123.12128250104442)}\n",
      "IDX - 9\n",
      "Time limit: 2 \t Rate: 5.0\n",
      "Skipping due to fee constraint\n"
     ]
    },
    {
     "data": {
      "text/plain": [
       "{'y_1': {'b_1': 1.0,\n",
       "  'constraint_coeffs': {'parking_fee': 1.5,\n",
       "   'savings': 3.5,\n",
       "   'expected_avail': 2,\n",
       "   'et_next_out': 10.0,\n",
       "   'et_next_in': 21.0,\n",
       "   'walk_time': 3.083,\n",
       "   'travel_et': 16.25},\n",
       "  'meterid': '600903',\n",
       "  'latln': (49.27954585600124, -123.12074549294861)},\n",
       " 'y_2': {'b_2': 1.0,\n",
       "  'constraint_coeffs': {'parking_fee': 1.5,\n",
       "   'savings': 3.5,\n",
       "   'expected_avail': 2,\n",
       "   'et_next_out': 15.0,\n",
       "   'et_next_in': 26.0,\n",
       "   'walk_time': 3.75,\n",
       "   'travel_et': 16.083333333333332},\n",
       "  'meterid': '600921',\n",
       "  'latln': (49.27919165701666, -123.12128250104442)}}"
      ]
     },
     "execution_count": 37,
     "metadata": {},
     "output_type": "execute_result"
    }
   ],
   "source": [
    "topK = 10\n",
    "stay_duration = 1.5 * 60 \n",
    "parking_budget = 5.00\n",
    "\n",
    "processor = Processor(datapath, origin, dest, topK, stay_duration, parking_budget)\n",
    "variables = processor.form_variables_dict()\n",
    "variables"
   ]
  },
  {
   "cell_type": "code",
   "execution_count": 38,
   "id": "55d6a58f-2e17-4395-832d-8fe31f1ae941",
   "metadata": {},
   "outputs": [
    {
     "name": "stdout",
     "output_type": "stream",
     "text": [
      "Welcome to the CBC MILP Solver \n",
      "Version: 2.10.3 \n",
      "Build Date: Dec 15 2019 \n",
      "\n",
      "command line - /Users/ahnafayub/opt/anaconda3/envs/geodat/lib/python3.10/site-packages/pulp/apis/../solverdir/cbc/osx/64/cbc /var/folders/52/md6yz3dn2g344wf8pqqb7kc80000gn/T/8ed6846585b44d26a94fb0ce646006c7-pulp.mps timeMode elapsed branch printingOptions all solution /var/folders/52/md6yz3dn2g344wf8pqqb7kc80000gn/T/8ed6846585b44d26a94fb0ce646006c7-pulp.sol (default strategy 1)\n",
      "At line 2 NAME          MODEL\n",
      "At line 3 ROWS\n",
      "At line 10 COLUMNS\n",
      "At line 23 RHS\n",
      "At line 29 BOUNDS\n",
      "At line 32 ENDATA\n",
      "Problem MODEL has 5 rows, 2 columns and 10 elements\n",
      "Coin0008I MODEL read with 0 errors\n",
      "Option for timeMode changed from cpu to elapsed\n",
      "Presolve 5 (0) rows, 2 (0) columns and 10 (0) elements\n",
      "0  Obj 0 Primal inf 1.9999998 (2)\n",
      "2  Obj 1\n",
      "Optimal - objective value 1\n",
      "Optimal objective 1 - 2 iterations time 0.002\n",
      "Option for printingOptions changed from normal to all\n",
      "Total time (CPU seconds):       0.00   (Wallclock seconds):       0.01\n",
      "\n",
      "******************************STATUS******************************\n",
      "Solution status: Optimal\n",
      "~~~ Values ~~~\n",
      "y_1  = 0.5\n",
      "y_2  = 0.5\n",
      "***************************************************************\n"
     ]
    },
    {
     "data": {
      "text/html": [
       "<div>\n",
       "<style scoped>\n",
       "    .dataframe tbody tr th:only-of-type {\n",
       "        vertical-align: middle;\n",
       "    }\n",
       "\n",
       "    .dataframe tbody tr th {\n",
       "        vertical-align: top;\n",
       "    }\n",
       "\n",
       "    .dataframe thead th {\n",
       "        text-align: right;\n",
       "    }\n",
       "</style>\n",
       "<table border=\"1\" class=\"dataframe\">\n",
       "  <thead>\n",
       "    <tr style=\"text-align: right;\">\n",
       "      <th></th>\n",
       "      <th>var</th>\n",
       "      <th>optimal_weight</th>\n",
       "      <th>parking_fee</th>\n",
       "      <th>expected_avail</th>\n",
       "      <th>travel_et</th>\n",
       "      <th>walk_time</th>\n",
       "      <th>et_next_out</th>\n",
       "      <th>et_next_in</th>\n",
       "    </tr>\n",
       "  </thead>\n",
       "  <tbody>\n",
       "    <tr>\n",
       "      <th>1</th>\n",
       "      <td>y_2</td>\n",
       "      <td>0.5</td>\n",
       "      <td>1.5</td>\n",
       "      <td>2</td>\n",
       "      <td>16.083333</td>\n",
       "      <td>3.750</td>\n",
       "      <td>15.0</td>\n",
       "      <td>26.0</td>\n",
       "    </tr>\n",
       "    <tr>\n",
       "      <th>0</th>\n",
       "      <td>y_1</td>\n",
       "      <td>0.5</td>\n",
       "      <td>1.5</td>\n",
       "      <td>2</td>\n",
       "      <td>16.250000</td>\n",
       "      <td>3.083</td>\n",
       "      <td>10.0</td>\n",
       "      <td>21.0</td>\n",
       "    </tr>\n",
       "  </tbody>\n",
       "</table>\n",
       "</div>"
      ],
      "text/plain": [
       "   var  optimal_weight  parking_fee  expected_avail  travel_et  walk_time  \\\n",
       "1  y_2             0.5          1.5               2  16.083333      3.750   \n",
       "0  y_1             0.5          1.5               2  16.250000      3.083   \n",
       "\n",
       "   et_next_out  et_next_in  \n",
       "1         15.0        26.0  \n",
       "0         10.0        21.0  "
      ]
     },
     "execution_count": 38,
     "metadata": {},
     "output_type": "execute_result"
    }
   ],
   "source": [
    "solver = Solver(variables)\n",
    "solver.solve_LP()\n",
    "soln = solver.get_soln_summary()\n",
    "soln"
   ]
  },
  {
   "cell_type": "markdown",
   "id": "173b9719-e18f-4abf-a1ab-0fd7e96a2b13",
   "metadata": {},
   "source": [
    "# Visualization"
   ]
  },
  {
   "cell_type": "code",
   "execution_count": 39,
   "id": "8ac31286-a23f-48e5-8402-8f95c174e208",
   "metadata": {},
   "outputs": [
    {
     "name": "stdout",
     "output_type": "stream",
     "text": [
      "y_2\n",
      "y_1\n"
     ]
    },
    {
     "data": {
      "text/html": [
       "<div style=\"width:100%;\"><div style=\"position:relative;width:100%;height:0;padding-bottom:60%;\"><span style=\"color:#565656\">Make this Notebook Trusted to load map: File -> Trust Notebook</span><iframe src=\"about:blank\" style=\"position:absolute;width:100%;height:100%;left:0;top:0;border:none !important;\" data-html=%3C%21DOCTYPE%20html%3E%0A%3Chead%3E%20%20%20%20%0A%20%20%20%20%3Cmeta%20http-equiv%3D%22content-type%22%20content%3D%22text/html%3B%20charset%3DUTF-8%22%20/%3E%0A%20%20%20%20%0A%20%20%20%20%20%20%20%20%3Cscript%3E%0A%20%20%20%20%20%20%20%20%20%20%20%20L_NO_TOUCH%20%3D%20false%3B%0A%20%20%20%20%20%20%20%20%20%20%20%20L_DISABLE_3D%20%3D%20false%3B%0A%20%20%20%20%20%20%20%20%3C/script%3E%0A%20%20%20%20%0A%20%20%20%20%3Cstyle%3Ehtml%2C%20body%20%7Bwidth%3A%20100%25%3Bheight%3A%20100%25%3Bmargin%3A%200%3Bpadding%3A%200%3B%7D%3C/style%3E%0A%20%20%20%20%3Cstyle%3E%23map%20%7Bposition%3Aabsolute%3Btop%3A0%3Bbottom%3A0%3Bright%3A0%3Bleft%3A0%3B%7D%3C/style%3E%0A%20%20%20%20%3Cscript%20src%3D%22https%3A//cdn.jsdelivr.net/npm/leaflet%401.6.0/dist/leaflet.js%22%3E%3C/script%3E%0A%20%20%20%20%3Cscript%20src%3D%22https%3A//code.jquery.com/jquery-1.12.4.min.js%22%3E%3C/script%3E%0A%20%20%20%20%3Cscript%20src%3D%22https%3A//maxcdn.bootstrapcdn.com/bootstrap/3.2.0/js/bootstrap.min.js%22%3E%3C/script%3E%0A%20%20%20%20%3Cscript%20src%3D%22https%3A//cdnjs.cloudflare.com/ajax/libs/Leaflet.awesome-markers/2.0.2/leaflet.awesome-markers.js%22%3E%3C/script%3E%0A%20%20%20%20%3Clink%20rel%3D%22stylesheet%22%20href%3D%22https%3A//cdn.jsdelivr.net/npm/leaflet%401.6.0/dist/leaflet.css%22/%3E%0A%20%20%20%20%3Clink%20rel%3D%22stylesheet%22%20href%3D%22https%3A//maxcdn.bootstrapcdn.com/bootstrap/3.2.0/css/bootstrap.min.css%22/%3E%0A%20%20%20%20%3Clink%20rel%3D%22stylesheet%22%20href%3D%22https%3A//maxcdn.bootstrapcdn.com/bootstrap/3.2.0/css/bootstrap-theme.min.css%22/%3E%0A%20%20%20%20%3Clink%20rel%3D%22stylesheet%22%20href%3D%22https%3A//maxcdn.bootstrapcdn.com/font-awesome/4.6.3/css/font-awesome.min.css%22/%3E%0A%20%20%20%20%3Clink%20rel%3D%22stylesheet%22%20href%3D%22https%3A//cdnjs.cloudflare.com/ajax/libs/Leaflet.awesome-markers/2.0.2/leaflet.awesome-markers.css%22/%3E%0A%20%20%20%20%3Clink%20rel%3D%22stylesheet%22%20href%3D%22https%3A//cdn.jsdelivr.net/gh/python-visualization/folium/folium/templates/leaflet.awesome.rotate.min.css%22/%3E%0A%20%20%20%20%0A%20%20%20%20%20%20%20%20%20%20%20%20%3Cmeta%20name%3D%22viewport%22%20content%3D%22width%3Ddevice-width%2C%0A%20%20%20%20%20%20%20%20%20%20%20%20%20%20%20%20initial-scale%3D1.0%2C%20maximum-scale%3D1.0%2C%20user-scalable%3Dno%22%20/%3E%0A%20%20%20%20%20%20%20%20%20%20%20%20%3Cstyle%3E%0A%20%20%20%20%20%20%20%20%20%20%20%20%20%20%20%20%23map_e96a102ba6f14480a67499072637e895%20%7B%0A%20%20%20%20%20%20%20%20%20%20%20%20%20%20%20%20%20%20%20%20position%3A%20relative%3B%0A%20%20%20%20%20%20%20%20%20%20%20%20%20%20%20%20%20%20%20%20width%3A%20100.0%25%3B%0A%20%20%20%20%20%20%20%20%20%20%20%20%20%20%20%20%20%20%20%20height%3A%2050.0%25%3B%0A%20%20%20%20%20%20%20%20%20%20%20%20%20%20%20%20%20%20%20%20left%3A%200.0%25%3B%0A%20%20%20%20%20%20%20%20%20%20%20%20%20%20%20%20%20%20%20%20top%3A%200.0%25%3B%0A%20%20%20%20%20%20%20%20%20%20%20%20%20%20%20%20%7D%0A%20%20%20%20%20%20%20%20%20%20%20%20%3C/style%3E%0A%20%20%20%20%20%20%20%20%0A%3C/head%3E%0A%3Cbody%3E%20%20%20%20%0A%20%20%20%20%0A%20%20%20%20%20%20%20%20%20%20%20%20%3Cdiv%20class%3D%22folium-map%22%20id%3D%22map_e96a102ba6f14480a67499072637e895%22%20%3E%3C/div%3E%0A%20%20%20%20%20%20%20%20%0A%3C/body%3E%0A%3Cscript%3E%20%20%20%20%0A%20%20%20%20%0A%20%20%20%20%20%20%20%20%20%20%20%20var%20map_e96a102ba6f14480a67499072637e895%20%3D%20L.map%28%0A%20%20%20%20%20%20%20%20%20%20%20%20%20%20%20%20%22map_e96a102ba6f14480a67499072637e895%22%2C%0A%20%20%20%20%20%20%20%20%20%20%20%20%20%20%20%20%7B%0A%20%20%20%20%20%20%20%20%20%20%20%20%20%20%20%20%20%20%20%20center%3A%20%5B49.28106%2C%20-123.11902%5D%2C%0A%20%20%20%20%20%20%20%20%20%20%20%20%20%20%20%20%20%20%20%20crs%3A%20L.CRS.EPSG3857%2C%0A%20%20%20%20%20%20%20%20%20%20%20%20%20%20%20%20%20%20%20%20zoom%3A%2016%2C%0A%20%20%20%20%20%20%20%20%20%20%20%20%20%20%20%20%20%20%20%20zoomControl%3A%20true%2C%0A%20%20%20%20%20%20%20%20%20%20%20%20%20%20%20%20%20%20%20%20preferCanvas%3A%20false%2C%0A%20%20%20%20%20%20%20%20%20%20%20%20%20%20%20%20%7D%0A%20%20%20%20%20%20%20%20%20%20%20%20%29%3B%0A%0A%20%20%20%20%20%20%20%20%20%20%20%20%0A%0A%20%20%20%20%20%20%20%20%0A%20%20%20%20%0A%20%20%20%20%20%20%20%20%20%20%20%20var%20tile_layer_4fe0712b48014febb1b232ddc8c912ae%20%3D%20L.tileLayer%28%0A%20%20%20%20%20%20%20%20%20%20%20%20%20%20%20%20%22https%3A//%7Bs%7D.tile.openstreetmap.org/%7Bz%7D/%7Bx%7D/%7By%7D.png%22%2C%0A%20%20%20%20%20%20%20%20%20%20%20%20%20%20%20%20%7B%22attribution%22%3A%20%22Data%20by%20%5Cu0026copy%3B%20%5Cu003ca%20href%3D%5C%22http%3A//openstreetmap.org%5C%22%5Cu003eOpenStreetMap%5Cu003c/a%5Cu003e%2C%20under%20%5Cu003ca%20href%3D%5C%22http%3A//www.openstreetmap.org/copyright%5C%22%5Cu003eODbL%5Cu003c/a%5Cu003e.%22%2C%20%22detectRetina%22%3A%20false%2C%20%22maxNativeZoom%22%3A%2018%2C%20%22maxZoom%22%3A%2018%2C%20%22minZoom%22%3A%200%2C%20%22noWrap%22%3A%20false%2C%20%22opacity%22%3A%201%2C%20%22subdomains%22%3A%20%22abc%22%2C%20%22tms%22%3A%20false%7D%0A%20%20%20%20%20%20%20%20%20%20%20%20%29.addTo%28map_e96a102ba6f14480a67499072637e895%29%3B%0A%20%20%20%20%20%20%20%20%0A%20%20%20%20%0A%20%20%20%20%20%20%20%20%20%20%20%20var%20marker_fb43a98551bd4c168bf3ff5e5e46c1ec%20%3D%20L.marker%28%0A%20%20%20%20%20%20%20%20%20%20%20%20%20%20%20%20%5B49.28106%2C%20-123.11902%5D%2C%0A%20%20%20%20%20%20%20%20%20%20%20%20%20%20%20%20%7B%7D%0A%20%20%20%20%20%20%20%20%20%20%20%20%29.addTo%28map_e96a102ba6f14480a67499072637e895%29%3B%0A%20%20%20%20%20%20%20%20%0A%20%20%20%20%0A%20%20%20%20%20%20%20%20%20%20%20%20var%20icon_eea741d02c7044c5aa0343bf6604905a%20%3D%20L.AwesomeMarkers.icon%28%0A%20%20%20%20%20%20%20%20%20%20%20%20%20%20%20%20%7B%22extraClasses%22%3A%20%22fa-rotate-0%22%2C%20%22icon%22%3A%20%22location-dot%22%2C%20%22iconColor%22%3A%20%22white%22%2C%20%22markerColor%22%3A%20%22red%22%2C%20%22prefix%22%3A%20%22fa%22%7D%0A%20%20%20%20%20%20%20%20%20%20%20%20%29%3B%0A%20%20%20%20%20%20%20%20%20%20%20%20marker_fb43a98551bd4c168bf3ff5e5e46c1ec.setIcon%28icon_eea741d02c7044c5aa0343bf6604905a%29%3B%0A%20%20%20%20%20%20%20%20%0A%20%20%20%20%0A%20%20%20%20%20%20%20%20%20%20%20%20var%20marker_381f28574d774b54a958fff1f16fa13a%20%3D%20L.marker%28%0A%20%20%20%20%20%20%20%20%20%20%20%20%20%20%20%20%5B49.27919165701666%2C%20-123.12128250104442%5D%2C%0A%20%20%20%20%20%20%20%20%20%20%20%20%20%20%20%20%7B%7D%0A%20%20%20%20%20%20%20%20%20%20%20%20%29.addTo%28map_e96a102ba6f14480a67499072637e895%29%3B%0A%20%20%20%20%20%20%20%20%0A%20%20%20%20%0A%20%20%20%20%20%20%20%20%20%20%20%20var%20icon_0cef9911b63b4fb3b3b2d998cc828ef6%20%3D%20L.AwesomeMarkers.icon%28%0A%20%20%20%20%20%20%20%20%20%20%20%20%20%20%20%20%7B%22extraClasses%22%3A%20%22fa-rotate-0%22%2C%20%22icon%22%3A%20%22circle-parking%22%2C%20%22iconColor%22%3A%20%22white%22%2C%20%22markerColor%22%3A%20%22blue%22%2C%20%22prefix%22%3A%20%22fa%22%7D%0A%20%20%20%20%20%20%20%20%20%20%20%20%29%3B%0A%20%20%20%20%20%20%20%20%20%20%20%20marker_381f28574d774b54a958fff1f16fa13a.setIcon%28icon_0cef9911b63b4fb3b3b2d998cc828ef6%29%3B%0A%20%20%20%20%20%20%20%20%0A%20%20%20%20%0A%20%20%20%20%20%20%20%20var%20popup_ed5cef0f75814a39a1ad5f3777a492e8%20%3D%20L.popup%28%7B%22maxWidth%22%3A%20%22100%25%22%7D%29%3B%0A%0A%20%20%20%20%20%20%20%20%0A%20%20%20%20%20%20%20%20%20%20%20%20var%20html_041120f230b34159b4afbcd1ecc06b08%20%3D%20%24%28%60%3Cdiv%20id%3D%22html_041120f230b34159b4afbcd1ecc06b08%22%20style%3D%22width%3A%20100.0%25%3B%20height%3A%20100.0%25%3B%22%3ERank-1%3C/div%3E%60%29%5B0%5D%3B%0A%20%20%20%20%20%20%20%20%20%20%20%20popup_ed5cef0f75814a39a1ad5f3777a492e8.setContent%28html_041120f230b34159b4afbcd1ecc06b08%29%3B%0A%20%20%20%20%20%20%20%20%0A%0A%20%20%20%20%20%20%20%20marker_381f28574d774b54a958fff1f16fa13a.bindPopup%28popup_ed5cef0f75814a39a1ad5f3777a492e8%29%0A%20%20%20%20%20%20%20%20%3B%0A%0A%20%20%20%20%20%20%20%20%0A%20%20%20%20%0A%20%20%20%20%0A%20%20%20%20%20%20%20%20%20%20%20%20var%20marker_b7df3e61730846519d1c1ce86db11c15%20%3D%20L.marker%28%0A%20%20%20%20%20%20%20%20%20%20%20%20%20%20%20%20%5B49.27954585600124%2C%20-123.12074549294861%5D%2C%0A%20%20%20%20%20%20%20%20%20%20%20%20%20%20%20%20%7B%7D%0A%20%20%20%20%20%20%20%20%20%20%20%20%29.addTo%28map_e96a102ba6f14480a67499072637e895%29%3B%0A%20%20%20%20%20%20%20%20%0A%20%20%20%20%0A%20%20%20%20%20%20%20%20%20%20%20%20var%20icon_9c4bd13b303b409db602340a37e842f0%20%3D%20L.AwesomeMarkers.icon%28%0A%20%20%20%20%20%20%20%20%20%20%20%20%20%20%20%20%7B%22extraClasses%22%3A%20%22fa-rotate-0%22%2C%20%22icon%22%3A%20%22circle-parking%22%2C%20%22iconColor%22%3A%20%22white%22%2C%20%22markerColor%22%3A%20%22blue%22%2C%20%22prefix%22%3A%20%22fa%22%7D%0A%20%20%20%20%20%20%20%20%20%20%20%20%29%3B%0A%20%20%20%20%20%20%20%20%20%20%20%20marker_b7df3e61730846519d1c1ce86db11c15.setIcon%28icon_9c4bd13b303b409db602340a37e842f0%29%3B%0A%20%20%20%20%20%20%20%20%0A%20%20%20%20%0A%20%20%20%20%20%20%20%20var%20popup_db3c111fae004fe4835fa1d118116389%20%3D%20L.popup%28%7B%22maxWidth%22%3A%20%22100%25%22%7D%29%3B%0A%0A%20%20%20%20%20%20%20%20%0A%20%20%20%20%20%20%20%20%20%20%20%20var%20html_cb954244022e4b5389c021229f107a82%20%3D%20%24%28%60%3Cdiv%20id%3D%22html_cb954244022e4b5389c021229f107a82%22%20style%3D%22width%3A%20100.0%25%3B%20height%3A%20100.0%25%3B%22%3ERank-2%3C/div%3E%60%29%5B0%5D%3B%0A%20%20%20%20%20%20%20%20%20%20%20%20popup_db3c111fae004fe4835fa1d118116389.setContent%28html_cb954244022e4b5389c021229f107a82%29%3B%0A%20%20%20%20%20%20%20%20%0A%0A%20%20%20%20%20%20%20%20marker_b7df3e61730846519d1c1ce86db11c15.bindPopup%28popup_db3c111fae004fe4835fa1d118116389%29%0A%20%20%20%20%20%20%20%20%3B%0A%0A%20%20%20%20%20%20%20%20%0A%20%20%20%20%0A%3C/script%3E onload=\"this.contentDocument.open();this.contentDocument.write(    decodeURIComponent(this.getAttribute('data-html')));this.contentDocument.close();\" allowfullscreen webkitallowfullscreen mozallowfullscreen></iframe></div></div>"
      ],
      "text/plain": [
       "<folium.folium.Map at 0x1379f66b0>"
      ]
     },
     "execution_count": 39,
     "metadata": {},
     "output_type": "execute_result"
    }
   ],
   "source": [
    "import folium\n",
    "fmap = folium.Map(location=dest, zoom_start=16, width=\"100%\", height=\"50%\")\n",
    "\n",
    "# folium.Marker(\n",
    "#     location=origin, icon=folium.Icon(color=\"red\",icon=\"home\", prefix='fa')\n",
    "# ).add_to(fmap)\n",
    "\n",
    "folium.Marker(\n",
    "    location=dest, icon=folium.Icon(color=\"red\",icon=\"location-dot\", prefix='fa')\n",
    ").add_to(fmap)\n",
    "\n",
    "\n",
    "for i, spot in enumerate(soln.loc[soln.optimal_weight > 0]['var']):\n",
    "    print(spot)\n",
    "    rank = i+1\n",
    "    spot_loc = variables[spot]['latln']\n",
    "    folium.Marker(\n",
    "        location = spot_loc,\n",
    "        popup = f'Rank-{rank}',\n",
    "        icon = folium.Icon(color=\"blue\", icon=\"circle-parking\", prefix='fa')\n",
    "    ).add_to(fmap)\n",
    "    \n",
    "# for r_id, result in enumerate(res['results']):\n",
    "#     folium.Marker(\n",
    "#         location = [result['position']['lat'], result['position']['lon']],\n",
    "# #         popup = result['poi']['name'],\n",
    "#         popup = generate_popup(r_id, result),\n",
    "#         icon = get_icon(poi_category)\n",
    "#     ).add_to(fmap)\n",
    "\n",
    "fmap"
   ]
  },
  {
   "cell_type": "code",
   "execution_count": null,
   "id": "43d61b3e-f2e1-4e8c-bdd3-d560dd3f3e6a",
   "metadata": {},
   "outputs": [],
   "source": []
  },
  {
   "cell_type": "code",
   "execution_count": null,
   "id": "aaea3af7-6731-4b8a-831b-c749c62fd274",
   "metadata": {},
   "outputs": [],
   "source": []
  }
 ],
 "metadata": {
  "kernelspec": {
   "display_name": "geodat",
   "language": "python",
   "name": "geodat"
  },
  "language_info": {
   "codemirror_mode": {
    "name": "ipython",
    "version": 3
   },
   "file_extension": ".py",
   "mimetype": "text/x-python",
   "name": "python",
   "nbconvert_exporter": "python",
   "pygments_lexer": "ipython3",
   "version": "3.10.4"
  }
 },
 "nbformat": 4,
 "nbformat_minor": 5
}
